{
 "cells": [
  {
   "cell_type": "markdown",
   "id": "bb42af08",
   "metadata": {},
   "source": [
    "# Join Google Maps locations"
   ]
  },
  {
   "cell_type": "code",
   "execution_count": null,
   "id": "a432d7a2",
   "metadata": {},
   "outputs": [],
   "source": [
    "import pandas as pd \n",
    "import warnings \n",
    "warnings.filterwarnings('ignore')"
   ]
  },
  {
   "cell_type": "code",
   "execution_count": null,
   "id": "81a064a9",
   "metadata": {},
   "outputs": [],
   "source": [
    "df = pd.read_csv('Geocoding//data//final_posts.csv')\n",
    "df1 = pd.read_csv('Geocoding//google_coords//google_LOC_FAC_GPE.csv')\n",
    "print(df.shape, df1.shape)"
   ]
  },
  {
   "cell_type": "code",
   "execution_count": null,
   "id": "a2144919",
   "metadata": {},
   "outputs": [],
   "source": [
    "df2 = pd.merge(df, df1, left_on='LOC_FAC_GPE', right_on = 'input_string')\n",
    "df2 = df2[['id','date','source','TE','lang','en_text','LOC_FAC_GPE', 'formatted_address', 'geom_long', 'geom_lat','lat','long', 'number_of_results']]\n",
    "df2.head()"
   ]
  },
  {
   "cell_type": "code",
   "execution_count": null,
   "id": "dbdf95d2",
   "metadata": {},
   "outputs": [],
   "source": [
    "df2.shape"
   ]
  },
  {
   "cell_type": "code",
   "execution_count": null,
   "id": "61da2a23",
   "metadata": {},
   "outputs": [],
   "source": [
    "df2.to_csv('Geocoding//geocoded_joined//google_LOC_FAC_GPE_full.csv')"
   ]
  },
  {
   "cell_type": "markdown",
   "id": "be461edf",
   "metadata": {},
   "source": [
    "# Join Nominatim"
   ]
  },
  {
   "cell_type": "code",
   "execution_count": 1,
   "id": "930ea987",
   "metadata": {},
   "outputs": [],
   "source": [
    "import pandas as pd \n",
    "import warnings \n",
    "warnings.filterwarnings('ignore')"
   ]
  },
  {
   "cell_type": "code",
   "execution_count": 2,
   "id": "d100e325",
   "metadata": {},
   "outputs": [
    {
     "name": "stdout",
     "output_type": "stream",
     "text": [
      "(17969, 30) (703, 6)\n"
     ]
    }
   ],
   "source": [
    "df = pd.read_csv('Geocoding//data//final_posts.csv')\n",
    "df1 = pd.read_csv('Geocoding//nom_coords//nom_LOC.csv')\n",
    "print(df.shape, df1.shape)"
   ]
  },
  {
   "cell_type": "code",
   "execution_count": 3,
   "id": "784d7f41",
   "metadata": {},
   "outputs": [],
   "source": [
    "df1 = df1.drop(0)"
   ]
  },
  {
   "cell_type": "code",
   "execution_count": 4,
   "id": "af940138",
   "metadata": {},
   "outputs": [
    {
     "data": {
      "text/html": [
       "<div>\n",
       "<style scoped>\n",
       "    .dataframe tbody tr th:only-of-type {\n",
       "        vertical-align: middle;\n",
       "    }\n",
       "\n",
       "    .dataframe tbody tr th {\n",
       "        vertical-align: top;\n",
       "    }\n",
       "\n",
       "    .dataframe thead th {\n",
       "        text-align: right;\n",
       "    }\n",
       "</style>\n",
       "<table border=\"1\" class=\"dataframe\">\n",
       "  <thead>\n",
       "    <tr style=\"text-align: right;\">\n",
       "      <th></th>\n",
       "      <th>id_x</th>\n",
       "      <th>date</th>\n",
       "      <th>source</th>\n",
       "      <th>TE</th>\n",
       "      <th>lang</th>\n",
       "      <th>en_text</th>\n",
       "      <th>LOC</th>\n",
       "      <th>location</th>\n",
       "      <th>geom_long</th>\n",
       "      <th>geom_lat</th>\n",
       "      <th>nlat</th>\n",
       "      <th>nlong</th>\n",
       "    </tr>\n",
       "  </thead>\n",
       "  <tbody>\n",
       "    <tr>\n",
       "      <th>0</th>\n",
       "      <td>3412188</td>\n",
       "      <td>10-Apr-20</td>\n",
       "      <td>Android</td>\n",
       "      <td>Apr-10</td>\n",
       "      <td>fr</td>\n",
       "      <td>@_Amixem #lavueDepuismonfinement with the St. ...</td>\n",
       "      <td>the St.Lawrence Cach River</td>\n",
       "      <td>NaN</td>\n",
       "      <td>-69.498244</td>\n",
       "      <td>47.917575</td>\n",
       "      <td>NaN</td>\n",
       "      <td>NaN</td>\n",
       "    </tr>\n",
       "    <tr>\n",
       "      <th>1</th>\n",
       "      <td>3416128</td>\n",
       "      <td>15-Apr-20</td>\n",
       "      <td>instagram</td>\n",
       "      <td>Apr-16</td>\n",
       "      <td>en</td>\n",
       "      <td>Ready, set, order... Only for free delivery in...</td>\n",
       "      <td>Treasure Valley</td>\n",
       "      <td>Treasure Valley, Claremont, Los Angeles County...</td>\n",
       "      <td>-116.390330</td>\n",
       "      <td>43.611290</td>\n",
       "      <td>34.151751</td>\n",
       "      <td>-117.692426</td>\n",
       "    </tr>\n",
       "    <tr>\n",
       "      <th>2</th>\n",
       "      <td>3435461</td>\n",
       "      <td>07-Apr-20</td>\n",
       "      <td>hootsuite</td>\n",
       "      <td>55</td>\n",
       "      <td>en</td>\n",
       "      <td>Come for a tour of this gorgeous 2 bedroom bun...</td>\n",
       "      <td>Georgian Bay</td>\n",
       "      <td>Georgian Bay, Ontario, Canada</td>\n",
       "      <td>-79.885995</td>\n",
       "      <td>44.748314</td>\n",
       "      <td>45.235859</td>\n",
       "      <td>-80.757251</td>\n",
       "    </tr>\n",
       "    <tr>\n",
       "      <th>3</th>\n",
       "      <td>3443929</td>\n",
       "      <td>05-Apr-20</td>\n",
       "      <td>iOS</td>\n",
       "      <td>1885</td>\n",
       "      <td>en</td>\n",
       "      <td>Just noticed that Hill Valley in 1885 is flyin...</td>\n",
       "      <td>Hill Valley</td>\n",
       "      <td>Hill Valley, VIA CINECITTA', Ogawacho, Kawasak...</td>\n",
       "      <td>-76.631232</td>\n",
       "      <td>39.340851</td>\n",
       "      <td>35.528082</td>\n",
       "      <td>139.697759</td>\n",
       "    </tr>\n",
       "    <tr>\n",
       "      <th>4</th>\n",
       "      <td>3454157</td>\n",
       "      <td>16-Feb-20</td>\n",
       "      <td>untappd</td>\n",
       "      <td>1955</td>\n",
       "      <td>en</td>\n",
       "      <td>Drinking a Here's the Scoop by @three3sbrew @ ...</td>\n",
       "      <td>Hill Valley</td>\n",
       "      <td>Hill Valley, VIA CINECITTA', Ogawacho, Kawasak...</td>\n",
       "      <td>-74.273900</td>\n",
       "      <td>40.260100</td>\n",
       "      <td>35.528082</td>\n",
       "      <td>139.697759</td>\n",
       "    </tr>\n",
       "  </tbody>\n",
       "</table>\n",
       "</div>"
      ],
      "text/plain": [
       "      id_x       date     source      TE lang  \\\n",
       "0  3412188  10-Apr-20    Android  Apr-10   fr   \n",
       "1  3416128  15-Apr-20  instagram  Apr-16   en   \n",
       "2  3435461  07-Apr-20  hootsuite      55   en   \n",
       "3  3443929  05-Apr-20        iOS    1885   en   \n",
       "4  3454157  16-Feb-20    untappd    1955   en   \n",
       "\n",
       "                                             en_text  \\\n",
       "0  @_Amixem #lavueDepuismonfinement with the St. ...   \n",
       "1  Ready, set, order... Only for free delivery in...   \n",
       "2  Come for a tour of this gorgeous 2 bedroom bun...   \n",
       "3  Just noticed that Hill Valley in 1885 is flyin...   \n",
       "4  Drinking a Here's the Scoop by @three3sbrew @ ...   \n",
       "\n",
       "                          LOC  \\\n",
       "0  the St.Lawrence Cach River   \n",
       "1             Treasure Valley   \n",
       "2                Georgian Bay   \n",
       "3                 Hill Valley   \n",
       "4                 Hill Valley   \n",
       "\n",
       "                                            location   geom_long   geom_lat  \\\n",
       "0                                                NaN  -69.498244  47.917575   \n",
       "1  Treasure Valley, Claremont, Los Angeles County... -116.390330  43.611290   \n",
       "2                      Georgian Bay, Ontario, Canada  -79.885995  44.748314   \n",
       "3  Hill Valley, VIA CINECITTA', Ogawacho, Kawasak...  -76.631232  39.340851   \n",
       "4  Hill Valley, VIA CINECITTA', Ogawacho, Kawasak...  -74.273900  40.260100   \n",
       "\n",
       "        nlat       nlong  \n",
       "0        NaN         NaN  \n",
       "1  34.151751 -117.692426  \n",
       "2  45.235859  -80.757251  \n",
       "3  35.528082  139.697759  \n",
       "4  35.528082  139.697759  "
      ]
     },
     "execution_count": 4,
     "metadata": {},
     "output_type": "execute_result"
    }
   ],
   "source": [
    "df2 = pd.merge(df, df1, on='LOC')\n",
    "df2 = df2[['id_x','date','source','TE','lang','en_text','LOC','location', 'geom_long', 'geom_lat','nlat','nlong']]\n",
    "df2.head()"
   ]
  },
  {
   "cell_type": "code",
   "execution_count": 5,
   "id": "3a65586b",
   "metadata": {},
   "outputs": [
    {
     "data": {
      "text/plain": [
       "(860, 12)"
      ]
     },
     "execution_count": 5,
     "metadata": {},
     "output_type": "execute_result"
    }
   ],
   "source": [
    "df2.shape"
   ]
  },
  {
   "cell_type": "code",
   "execution_count": 6,
   "id": "9e2d21a7",
   "metadata": {},
   "outputs": [],
   "source": [
    "df2.to_csv('Geocoding//geocoded_joined//nom_LOC_full.csv')"
   ]
  },
  {
   "cell_type": "code",
   "execution_count": null,
   "id": "66da09bc",
   "metadata": {},
   "outputs": [],
   "source": []
  }
 ],
 "metadata": {
  "kernelspec": {
   "display_name": "Python 3 (ipykernel)",
   "language": "python",
   "name": "python3"
  },
  "language_info": {
   "codemirror_mode": {
    "name": "ipython",
    "version": 3
   },
   "file_extension": ".py",
   "mimetype": "text/x-python",
   "name": "python",
   "nbconvert_exporter": "python",
   "pygments_lexer": "ipython3",
   "version": "3.10.2"
  }
 },
 "nbformat": 4,
 "nbformat_minor": 5
}
