{
 "cells": [
  {
   "cell_type": "markdown",
   "id": "a5b8d60e",
   "metadata": {},
   "source": [
    "# Data preprocessing"
   ]
  },
  {
   "cell_type": "code",
   "execution_count": 1,
   "id": "7875ccbe",
   "metadata": {},
   "outputs": [],
   "source": [
    "import pandas as pd\n",
    "\n",
    "import warnings\n",
    "warnings.filterwarnings('ignore')"
   ]
  },
  {
   "cell_type": "code",
   "execution_count": 2,
   "id": "60a3c3ad",
   "metadata": {},
   "outputs": [
    {
     "data": {
      "text/html": [
       "<style>.container { width:98% !important; }</style>"
      ],
      "text/plain": [
       "<IPython.core.display.HTML object>"
      ]
     },
     "metadata": {},
     "output_type": "display_data"
    }
   ],
   "source": [
    "# from util import getCursor\n",
    "from IPython.display import display, HTML # import display from Ipython.display instead of IPython.core.display\n",
    "import base64\n",
    "\n",
    "# Define display limits\n",
    "pd.options.display.max_colwidth = 400\n",
    "pd.set_option(\"display.max_rows\", None,)\n",
    "\n",
    "# %matplotlib inline  \n",
    "%load_ext autoreload\n",
    "%autoreload 2\n",
    "display(HTML(\"<style>.container { width:98% !important; }</style>\"))"
   ]
  },
  {
   "cell_type": "code",
   "execution_count": 3,
   "id": "d75595c8",
   "metadata": {},
   "outputs": [
    {
     "data": {
      "text/plain": [
       "(164599, 7)"
      ]
     },
     "execution_count": 3,
     "metadata": {},
     "output_type": "execute_result"
    }
   ],
   "source": [
    "# Loading data\n",
    "df = pd.read_csv('data2//data2_complete.csv')\n",
    "df.shape"
   ]
  },
  {
   "cell_type": "code",
   "execution_count": 4,
   "id": "1a067b10",
   "metadata": {},
   "outputs": [
    {
     "data": {
      "text/plain": [
       "(161131, 7)"
      ]
     },
     "execution_count": 4,
     "metadata": {},
     "output_type": "execute_result"
    }
   ],
   "source": [
    "#Drop duplicates incase the same tweet appears twice\n",
    "df.drop_duplicates(inplace=True, subset=\"text\", keep='first')\n",
    "df.shape"
   ]
  },
  {
   "cell_type": "code",
   "execution_count": 5,
   "id": "0079075d",
   "metadata": {
    "scrolled": true
   },
   "outputs": [
    {
     "data": {
      "text/html": [
       "<div>\n",
       "<style scoped>\n",
       "    .dataframe tbody tr th:only-of-type {\n",
       "        vertical-align: middle;\n",
       "    }\n",
       "\n",
       "    .dataframe tbody tr th {\n",
       "        vertical-align: top;\n",
       "    }\n",
       "\n",
       "    .dataframe thead th {\n",
       "        text-align: right;\n",
       "    }\n",
       "</style>\n",
       "<table border=\"1\" class=\"dataframe\">\n",
       "  <thead>\n",
       "    <tr style=\"text-align: right;\">\n",
       "      <th></th>\n",
       "      <th>Unnamed: 0</th>\n",
       "      <th>message_id</th>\n",
       "      <th>date</th>\n",
       "      <th>text</th>\n",
       "      <th>source</th>\n",
       "      <th>longitude</th>\n",
       "      <th>latittude</th>\n",
       "    </tr>\n",
       "  </thead>\n",
       "  <tbody>\n",
       "    <tr>\n",
       "      <th>164594</th>\n",
       "      <td>164594</td>\n",
       "      <td>1168614984395493377</td>\n",
       "      <td>2019-09-02 20:01:38</td>\n",
       "      <td>Vientos de Dorian comienzan a llegar a Broward County , Florida USA</td>\n",
       "      <td>iphone</td>\n",
       "      <td>-80.317631</td>\n",
       "      <td>26.151314</td>\n",
       "    </tr>\n",
       "    <tr>\n",
       "      <th>164595</th>\n",
       "      <td>164595</td>\n",
       "      <td>1210318644951076865</td>\n",
       "      <td>2019-12-26 21:57:06</td>\n",
       "      <td>@joefishjames @alexanderussell It’s fun which is about the best you can expect from a show about a Polish mutant who hunts fantasy monsters with a sword</td>\n",
       "      <td>ios</td>\n",
       "      <td>-97.127894</td>\n",
       "      <td>40.170262</td>\n",
       "    </tr>\n",
       "    <tr>\n",
       "      <th>164596</th>\n",
       "      <td>164596</td>\n",
       "      <td>1184805489973972992</td>\n",
       "      <td>2019-10-17 12:16:56</td>\n",
       "      <td>Our Quiche today is Ham &amp; Gruyere and Double Cheddar (meatless) 🤤\\nEnjoy a slice for breakfast or lunch! @ The Bexley Coffee Shop</td>\n",
       "      <td>Instagram</td>\n",
       "      <td>-82.931710</td>\n",
       "      <td>39.980590</td>\n",
       "    </tr>\n",
       "    <tr>\n",
       "      <th>164597</th>\n",
       "      <td>164597</td>\n",
       "      <td>1173424539130322945</td>\n",
       "      <td>2019-09-16 02:33:05</td>\n",
       "      <td>#atlvsphi Wentz didn't get the ball across on the conversion try. What is going on?</td>\n",
       "      <td>Android</td>\n",
       "      <td>-84.259844</td>\n",
       "      <td>33.957663</td>\n",
       "    </tr>\n",
       "    <tr>\n",
       "      <th>164598</th>\n",
       "      <td>164598</td>\n",
       "      <td>1159167411268067328</td>\n",
       "      <td>2019-08-07 18:20:21</td>\n",
       "      <td>Big Phat Pussy. Mufasa! 🦁🤣🤣🤣</td>\n",
       "      <td>iphone</td>\n",
       "      <td>-84.188910</td>\n",
       "      <td>33.875997</td>\n",
       "    </tr>\n",
       "  </tbody>\n",
       "</table>\n",
       "</div>"
      ],
      "text/plain": [
       "        Unnamed: 0           message_id                 date  \\\n",
       "164594      164594  1168614984395493377  2019-09-02 20:01:38   \n",
       "164595      164595  1210318644951076865  2019-12-26 21:57:06   \n",
       "164596      164596  1184805489973972992  2019-10-17 12:16:56   \n",
       "164597      164597  1173424539130322945  2019-09-16 02:33:05   \n",
       "164598      164598  1159167411268067328  2019-08-07 18:20:21   \n",
       "\n",
       "                                                                                                                                                            text  \\\n",
       "164594                                                                                      Vientos de Dorian comienzan a llegar a Broward County , Florida USA    \n",
       "164595  @joefishjames @alexanderussell It’s fun which is about the best you can expect from a show about a Polish mutant who hunts fantasy monsters with a sword   \n",
       "164596                        Our Quiche today is Ham & Gruyere and Double Cheddar (meatless) 🤤\\nEnjoy a slice for breakfast or lunch! @ The Bexley Coffee Shop    \n",
       "164597                                                                       #atlvsphi Wentz didn't get the ball across on the conversion try. What is going on?   \n",
       "164598                                                                                                                             Big Phat Pussy. Mufasa! 🦁🤣🤣🤣    \n",
       "\n",
       "           source  longitude  latittude  \n",
       "164594     iphone -80.317631  26.151314  \n",
       "164595        ios -97.127894  40.170262  \n",
       "164596  Instagram -82.931710  39.980590  \n",
       "164597    Android -84.259844  33.957663  \n",
       "164598     iphone -84.188910  33.875997  "
      ]
     },
     "execution_count": 5,
     "metadata": {},
     "output_type": "execute_result"
    }
   ],
   "source": [
    "#Drop urls\n",
    "df['text'] = df['text'].replace(r'http\\S+', '', regex=True).replace(r'www\\S+', '', regex=True)\n",
    "df.tail()"
   ]
  },
  {
   "cell_type": "code",
   "execution_count": null,
   "id": "18a8850e",
   "metadata": {},
   "outputs": [],
   "source": [
    "#Drop hashtag words\n",
    "#df['text'] = df['text'].replace(r'#\\S+', '', regex=True)\n",
    "#df.tail()"
   ]
  },
  {
   "cell_type": "code",
   "execution_count": 6,
   "id": "7913c5c1",
   "metadata": {},
   "outputs": [
    {
     "data": {
      "text/html": [
       "<div>\n",
       "<style scoped>\n",
       "    .dataframe tbody tr th:only-of-type {\n",
       "        vertical-align: middle;\n",
       "    }\n",
       "\n",
       "    .dataframe tbody tr th {\n",
       "        vertical-align: top;\n",
       "    }\n",
       "\n",
       "    .dataframe thead th {\n",
       "        text-align: right;\n",
       "    }\n",
       "</style>\n",
       "<table border=\"1\" class=\"dataframe\">\n",
       "  <thead>\n",
       "    <tr style=\"text-align: right;\">\n",
       "      <th></th>\n",
       "      <th>Unnamed: 0</th>\n",
       "      <th>message_id</th>\n",
       "      <th>date</th>\n",
       "      <th>text</th>\n",
       "      <th>source</th>\n",
       "      <th>longitude</th>\n",
       "      <th>latittude</th>\n",
       "    </tr>\n",
       "  </thead>\n",
       "  <tbody>\n",
       "    <tr>\n",
       "      <th>164594</th>\n",
       "      <td>164594</td>\n",
       "      <td>1168614984395493377</td>\n",
       "      <td>2019-09-02 20:01:38</td>\n",
       "      <td>Vientos de Dorian comienzan a llegar a Broward County , Florida USA</td>\n",
       "      <td>iphone</td>\n",
       "      <td>-80.3176305</td>\n",
       "      <td>26.15131357</td>\n",
       "    </tr>\n",
       "    <tr>\n",
       "      <th>164595</th>\n",
       "      <td>164595</td>\n",
       "      <td>1210318644951076865</td>\n",
       "      <td>2019-12-26 21:57:06</td>\n",
       "      <td>@joefishjames @alexanderussell Its fun which is about the best you can expect from a show about a Polish mutant who hunts fantasy monsters with a sword</td>\n",
       "      <td>ios</td>\n",
       "      <td>-97.1278941</td>\n",
       "      <td>40.17026236</td>\n",
       "    </tr>\n",
       "    <tr>\n",
       "      <th>164596</th>\n",
       "      <td>164596</td>\n",
       "      <td>1184805489973972992</td>\n",
       "      <td>2019-10-17 12:16:56</td>\n",
       "      <td>Our Quiche today is Ham &amp; Gruyere and Double Cheddar (meatless) \\nEnjoy a slice for breakfast or lunch! @ The Bexley Coffee Shop</td>\n",
       "      <td>Instagram</td>\n",
       "      <td>-82.93171</td>\n",
       "      <td>39.98059</td>\n",
       "    </tr>\n",
       "    <tr>\n",
       "      <th>164597</th>\n",
       "      <td>164597</td>\n",
       "      <td>1173424539130322945</td>\n",
       "      <td>2019-09-16 02:33:05</td>\n",
       "      <td>#atlvsphi Wentz didn't get the ball across on the conversion try. What is going on?</td>\n",
       "      <td>Android</td>\n",
       "      <td>-84.2598442</td>\n",
       "      <td>33.957662799999994</td>\n",
       "    </tr>\n",
       "    <tr>\n",
       "      <th>164598</th>\n",
       "      <td>164598</td>\n",
       "      <td>1159167411268067328</td>\n",
       "      <td>2019-08-07 18:20:21</td>\n",
       "      <td>Big Phat Pussy. Mufasa!</td>\n",
       "      <td>iphone</td>\n",
       "      <td>-84.18890993</td>\n",
       "      <td>33.87599683</td>\n",
       "    </tr>\n",
       "  </tbody>\n",
       "</table>\n",
       "</div>"
      ],
      "text/plain": [
       "       Unnamed: 0           message_id                 date  \\\n",
       "164594     164594  1168614984395493377  2019-09-02 20:01:38   \n",
       "164595     164595  1210318644951076865  2019-12-26 21:57:06   \n",
       "164596     164596  1184805489973972992  2019-10-17 12:16:56   \n",
       "164597     164597  1173424539130322945  2019-09-16 02:33:05   \n",
       "164598     164598  1159167411268067328  2019-08-07 18:20:21   \n",
       "\n",
       "                                                                                                                                                           text  \\\n",
       "164594                                                                                     Vientos de Dorian comienzan a llegar a Broward County , Florida USA    \n",
       "164595  @joefishjames @alexanderussell Its fun which is about the best you can expect from a show about a Polish mutant who hunts fantasy monsters with a sword   \n",
       "164596                        Our Quiche today is Ham & Gruyere and Double Cheddar (meatless) \\nEnjoy a slice for breakfast or lunch! @ The Bexley Coffee Shop    \n",
       "164597                                                                      #atlvsphi Wentz didn't get the ball across on the conversion try. What is going on?   \n",
       "164598                                                                                                                                Big Phat Pussy. Mufasa!     \n",
       "\n",
       "           source     longitude           latittude  \n",
       "164594     iphone   -80.3176305         26.15131357  \n",
       "164595        ios   -97.1278941         40.17026236  \n",
       "164596  Instagram     -82.93171            39.98059  \n",
       "164597    Android   -84.2598442  33.957662799999994  \n",
       "164598     iphone  -84.18890993         33.87599683  "
      ]
     },
     "execution_count": 6,
     "metadata": {},
     "output_type": "execute_result"
    }
   ],
   "source": [
    "# Drop emojis\n",
    "df = df.astype(str).apply(lambda x: x.str.encode('ascii', 'ignore').str.decode('ascii'))\n",
    "df.tail()"
   ]
  },
  {
   "cell_type": "code",
   "execution_count": 7,
   "id": "966caa29",
   "metadata": {},
   "outputs": [
    {
     "data": {
      "text/html": [
       "<div>\n",
       "<style scoped>\n",
       "    .dataframe tbody tr th:only-of-type {\n",
       "        vertical-align: middle;\n",
       "    }\n",
       "\n",
       "    .dataframe tbody tr th {\n",
       "        vertical-align: top;\n",
       "    }\n",
       "\n",
       "    .dataframe thead th {\n",
       "        text-align: right;\n",
       "    }\n",
       "</style>\n",
       "<table border=\"1\" class=\"dataframe\">\n",
       "  <thead>\n",
       "    <tr style=\"text-align: right;\">\n",
       "      <th></th>\n",
       "      <th>Unnamed: 0</th>\n",
       "      <th>message_id</th>\n",
       "      <th>date</th>\n",
       "      <th>text</th>\n",
       "      <th>source</th>\n",
       "      <th>longitude</th>\n",
       "      <th>latittude</th>\n",
       "    </tr>\n",
       "  </thead>\n",
       "  <tbody>\n",
       "    <tr>\n",
       "      <th>0</th>\n",
       "      <td>0</td>\n",
       "      <td>1181425472770494464</td>\n",
       "      <td>2019-10-08 04:25:57</td>\n",
       "      <td>@WinTheDay848</td>\n",
       "      <td>ios</td>\n",
       "      <td>-122.49661013</td>\n",
       "      <td>45.42474365</td>\n",
       "    </tr>\n",
       "    <tr>\n",
       "      <th>1</th>\n",
       "      <td>1</td>\n",
       "      <td>1187179824189788160</td>\n",
       "      <td>2019-10-24 01:31:41</td>\n",
       "      <td>Also pastors</td>\n",
       "      <td>ios</td>\n",
       "      <td>-87.60335019</td>\n",
       "      <td>41.80377197</td>\n",
       "    </tr>\n",
       "    <tr>\n",
       "      <th>2</th>\n",
       "      <td>2</td>\n",
       "      <td>1161754851510030342</td>\n",
       "      <td>2019-08-14 21:41:55</td>\n",
       "      <td>we are in and the tickets are REAL</td>\n",
       "      <td>iphone</td>\n",
       "      <td>-96.71230119</td>\n",
       "      <td>40.81727638</td>\n",
       "    </tr>\n",
       "    <tr>\n",
       "      <th>3</th>\n",
       "      <td>3</td>\n",
       "      <td>1197029965797175303</td>\n",
       "      <td>2019-11-20 05:52:38</td>\n",
       "      <td>We should have this 475 ml sugar baby</td>\n",
       "      <td>iphone</td>\n",
       "      <td>-84.38328115</td>\n",
       "      <td>33.76104998</td>\n",
       "    </tr>\n",
       "    <tr>\n",
       "      <th>4</th>\n",
       "      <td>4</td>\n",
       "      <td>1195453434780143622</td>\n",
       "      <td>2019-11-15 21:28:03</td>\n",
       "      <td>Guys I got Pokemon Sword Today</td>\n",
       "      <td>Android</td>\n",
       "      <td>-80.2037205</td>\n",
       "      <td>26.663375</td>\n",
       "    </tr>\n",
       "  </tbody>\n",
       "</table>\n",
       "</div>"
      ],
      "text/plain": [
       "  Unnamed: 0           message_id                 date  \\\n",
       "0          0  1181425472770494464  2019-10-08 04:25:57   \n",
       "1          1  1187179824189788160  2019-10-24 01:31:41   \n",
       "2          2  1161754851510030342  2019-08-14 21:41:55   \n",
       "3          3  1197029965797175303  2019-11-20 05:52:38   \n",
       "4          4  1195453434780143622  2019-11-15 21:28:03   \n",
       "\n",
       "                                    text   source      longitude    latittude  \n",
       "0                          @WinTheDay848      ios  -122.49661013  45.42474365  \n",
       "1                           Also pastors      ios   -87.60335019  41.80377197  \n",
       "2     we are in and the tickets are REAL   iphone   -96.71230119  40.81727638  \n",
       "3  We should have this 475 ml sugar baby   iphone   -84.38328115  33.76104998  \n",
       "4         Guys I got Pokemon Sword Today  Android    -80.2037205    26.663375  "
      ]
     },
     "execution_count": 7,
     "metadata": {},
     "output_type": "execute_result"
    }
   ],
   "source": [
    "# Remove multiple whitespaces, tabs and new lines\n",
    "df['text'] = df['text'].str.replace('\\n', '')\n",
    "df['text'] = df['text'].str.replace('\\t', ' ')\n",
    "df['text'] = df['text'].str.replace(' {2,}', ' ', regex=True)\n",
    "df['text'] = df['text'].str.strip()\n",
    "df.head()"
   ]
  },
  {
   "cell_type": "code",
   "execution_count": 8,
   "id": "2cfd1797",
   "metadata": {},
   "outputs": [
    {
     "data": {
      "text/plain": [
       "(125094, 9)"
      ]
     },
     "execution_count": 8,
     "metadata": {},
     "output_type": "execute_result"
    }
   ],
   "source": [
    "#Extract posts with 3 or more words\n",
    "df['split_text']=df['text'].str.split()\n",
    "df['WordsCount']=df['split_text'].apply(lambda x: len(x))\n",
    "df=df[(df['WordsCount']>= 3)]\n",
    "df.shape"
   ]
  },
  {
   "cell_type": "code",
   "execution_count": 9,
   "id": "ba0f48f9",
   "metadata": {},
   "outputs": [
    {
     "data": {
      "text/plain": [
       "(123472, 9)"
      ]
     },
     "execution_count": 9,
     "metadata": {},
     "output_type": "execute_result"
    }
   ],
   "source": [
    "#drop duplicates\n",
    "df.drop_duplicates(inplace=True, subset=\"text\", keep='first')\n",
    "df.shape"
   ]
  },
  {
   "cell_type": "code",
   "execution_count": 10,
   "id": "9988b484",
   "metadata": {},
   "outputs": [],
   "source": [
    "df.to_csv('data2//data2_cleaned.csv')"
   ]
  },
  {
   "cell_type": "code",
   "execution_count": null,
   "id": "fa5d2e0d",
   "metadata": {},
   "outputs": [],
   "source": []
  }
 ],
 "metadata": {
  "kernelspec": {
   "display_name": "Python 3",
   "language": "python",
   "name": "python3"
  },
  "language_info": {
   "codemirror_mode": {
    "name": "ipython",
    "version": 3
   },
   "file_extension": ".py",
   "mimetype": "text/x-python",
   "name": "python",
   "nbconvert_exporter": "python",
   "pygments_lexer": "ipython3",
   "version": "3.8.8"
  }
 },
 "nbformat": 4,
 "nbformat_minor": 5
}
