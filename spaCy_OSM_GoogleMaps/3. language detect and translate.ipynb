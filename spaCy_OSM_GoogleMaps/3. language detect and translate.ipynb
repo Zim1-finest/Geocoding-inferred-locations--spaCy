{
 "cells": [
  {
   "cell_type": "markdown",
   "id": "c6a7cb52",
   "metadata": {},
   "source": [
    "# Language detect, split and Translate"
   ]
  },
  {
   "cell_type": "code",
   "execution_count": 1,
   "id": "862ba564",
   "metadata": {},
   "outputs": [],
   "source": [
    "# Import libriaries \n",
    "import pandas as pd\n",
    "\n",
    "import warnings\n",
    "warnings.filterwarnings('ignore')"
   ]
  },
  {
   "cell_type": "code",
   "execution_count": 2,
   "id": "45b84c7c",
   "metadata": {},
   "outputs": [],
   "source": [
    "# from util import getCursor\n",
    "from IPython.display import display, HTML # import display from Ipython.display instead of IPython.core.display\n",
    "import base64"
   ]
  },
  {
   "cell_type": "code",
   "execution_count": 3,
   "id": "50bc6f72",
   "metadata": {},
   "outputs": [
    {
     "data": {
      "text/html": [
       "<style>.container { width:98% !important; }</style>"
      ],
      "text/plain": [
       "<IPython.core.display.HTML object>"
      ]
     },
     "metadata": {},
     "output_type": "display_data"
    }
   ],
   "source": [
    "# Define display limits\n",
    "pd.options.display.max_colwidth = 400\n",
    "pd.set_option(\"display.max_rows\", None,)\n",
    "\n",
    "# %matplotlib inline  \n",
    "%load_ext autoreload\n",
    "%autoreload 2\n",
    "display(HTML(\"<style>.container { width:98% !important; }</style>\"))"
   ]
  },
  {
   "cell_type": "code",
   "execution_count": null,
   "id": "ff444bb8",
   "metadata": {},
   "outputs": [],
   "source": []
  },
  {
   "cell_type": "markdown",
   "id": "65898d5f",
   "metadata": {},
   "source": [
    "## 1. Language detect"
   ]
  },
  {
   "cell_type": "code",
   "execution_count": 4,
   "id": "da63e45b",
   "metadata": {},
   "outputs": [],
   "source": [
    "from langdetect import detect\n",
    "import re"
   ]
  },
  {
   "cell_type": "code",
   "execution_count": 5,
   "id": "28bcb9a5",
   "metadata": {},
   "outputs": [
    {
     "name": "stdout",
     "output_type": "stream",
     "text": [
      "(123472, 10)\n"
     ]
    }
   ],
   "source": [
    "df = pd.read_csv('data2//data2_cleaned.csv')\n",
    "print (df.shape)"
   ]
  },
  {
   "cell_type": "code",
   "execution_count": 24,
   "id": "6e8affdc",
   "metadata": {},
   "outputs": [],
   "source": [
    "df = df_not_en2"
   ]
  },
  {
   "cell_type": "code",
   "execution_count": 25,
   "id": "de1d87df",
   "metadata": {},
   "outputs": [
    {
     "data": {
      "text/html": [
       "<div>\n",
       "<style scoped>\n",
       "    .dataframe tbody tr th:only-of-type {\n",
       "        vertical-align: middle;\n",
       "    }\n",
       "\n",
       "    .dataframe tbody tr th {\n",
       "        vertical-align: top;\n",
       "    }\n",
       "\n",
       "    .dataframe thead th {\n",
       "        text-align: right;\n",
       "    }\n",
       "</style>\n",
       "<table border=\"1\" class=\"dataframe\">\n",
       "  <thead>\n",
       "    <tr style=\"text-align: right;\">\n",
       "      <th></th>\n",
       "      <th>message_id</th>\n",
       "      <th>date</th>\n",
       "      <th>text</th>\n",
       "      <th>source</th>\n",
       "      <th>longitude</th>\n",
       "      <th>latittude</th>\n",
       "      <th>lang</th>\n",
       "      <th>split_text</th>\n",
       "      <th>WordsCount</th>\n",
       "    </tr>\n",
       "  </thead>\n",
       "  <tbody>\n",
       "    <tr>\n",
       "      <th>123427</th>\n",
       "      <td>1184852325468233728</td>\n",
       "      <td>2019-10-17 15:23:02</td>\n",
       "      <td>se puso un mercado en arboledas!!</td>\n",
       "      <td>Android</td>\n",
       "      <td>-100.356369</td>\n",
       "      <td>25.649205</td>\n",
       "      <td>es</td>\n",
       "      <td>[se, puso, un, mercado, en, arboledas!!]</td>\n",
       "      <td>6</td>\n",
       "    </tr>\n",
       "    <tr>\n",
       "      <th>123429</th>\n",
       "      <td>1184774001542844416</td>\n",
       "      <td>2019-10-17 10:11:48</td>\n",
       "      <td>@ Paradise Cove , Malibu Beach</td>\n",
       "      <td>Instagram</td>\n",
       "      <td>-118.536983</td>\n",
       "      <td>34.036118</td>\n",
       "      <td>en</td>\n",
       "      <td>[@, Paradise, Cove, ,, Malibu, Beach]</td>\n",
       "      <td>6</td>\n",
       "    </tr>\n",
       "    <tr>\n",
       "      <th>123438</th>\n",
       "      <td>1176192315599273984</td>\n",
       "      <td>2019-09-23 17:51:15</td>\n",
       "      <td>Ladies and gentlemen we got him</td>\n",
       "      <td>Android</td>\n",
       "      <td>-91.530593</td>\n",
       "      <td>41.663649</td>\n",
       "      <td>af</td>\n",
       "      <td>[Ladies, and, gentlemen, we, got, him]</td>\n",
       "      <td>6</td>\n",
       "    </tr>\n",
       "    <tr>\n",
       "      <th>123446</th>\n",
       "      <td>1209590783193559040</td>\n",
       "      <td>2019-12-24 21:44:50</td>\n",
       "      <td>@ xquisite barbershop  got me rite!</td>\n",
       "      <td>iphone</td>\n",
       "      <td>-90.034696</td>\n",
       "      <td>29.992697</td>\n",
       "      <td>af</td>\n",
       "      <td>[@, xquisite, barbershop, got, me, rite!]</td>\n",
       "      <td>6</td>\n",
       "    </tr>\n",
       "    <tr>\n",
       "      <th>123447</th>\n",
       "      <td>1184804161042317312</td>\n",
       "      <td>2019-10-17 12:11:39</td>\n",
       "      <td>UN LUGAR PARA COMENZAR! Cuando se trata de conocer a Dios, todos estamos en diferentes lugares. Algunos estn buscando, otros tienen dudas, algunos son escpticos y otros conocen muy poco sobre la fe. Si deseas</td>\n",
       "      <td>Instagram</td>\n",
       "      <td>-74.012500</td>\n",
       "      <td>40.804200</td>\n",
       "      <td>es</td>\n",
       "      <td>[UN, LUGAR, PARA, COMENZAR!, Cuando, se, trata, de, conocer, a, Dios,, todos, estamos, en, diferentes, lugares., Algunos, estn, buscando,, otros, tienen, dudas,, algunos, son, escpticos, y, otros, conocen, muy, poco, sobre, la, fe., Si, deseas]</td>\n",
       "      <td>35</td>\n",
       "    </tr>\n",
       "    <tr>\n",
       "      <th>123460</th>\n",
       "      <td>1209628934280605697</td>\n",
       "      <td>2019-12-25 00:16:26</td>\n",
       "      <td>Se canso de ser buena, ahora es ella quien los usa</td>\n",
       "      <td>ios</td>\n",
       "      <td>-111.973819</td>\n",
       "      <td>33.469543</td>\n",
       "      <td>es</td>\n",
       "      <td>[Se, canso, de, ser, buena,, ahora, es, ella, quien, los, usa]</td>\n",
       "      <td>11</td>\n",
       "    </tr>\n",
       "    <tr>\n",
       "      <th>123463</th>\n",
       "      <td>1158919524768292866</td>\n",
       "      <td>2019-08-07 01:55:21</td>\n",
       "      <td>Ok google how to not get diabetes while drinking mdf everyday</td>\n",
       "      <td>ios</td>\n",
       "      <td>-122.428288</td>\n",
       "      <td>37.769653</td>\n",
       "      <td>af</td>\n",
       "      <td>[Ok, google, how, to, not, get, diabetes, while, drinking, mdf, everyday]</td>\n",
       "      <td>11</td>\n",
       "    </tr>\n",
       "    <tr>\n",
       "      <th>123465</th>\n",
       "      <td>1179558353229496320</td>\n",
       "      <td>2019-10-03 00:46:41</td>\n",
       "      <td>1 day down</td>\n",
       "      <td>Android</td>\n",
       "      <td>-82.930835</td>\n",
       "      <td>43.708908</td>\n",
       "      <td>so</td>\n",
       "      <td>[1, day, down]</td>\n",
       "      <td>3</td>\n",
       "    </tr>\n",
       "    <tr>\n",
       "      <th>123467</th>\n",
       "      <td>1168614984395493377</td>\n",
       "      <td>2019-09-02 20:01:38</td>\n",
       "      <td>Vientos de Dorian comienzan a llegar a Broward County , Florida USA</td>\n",
       "      <td>iphone</td>\n",
       "      <td>-80.317631</td>\n",
       "      <td>26.151314</td>\n",
       "      <td>es</td>\n",
       "      <td>[Vientos, de, Dorian, comienzan, a, llegar, a, Broward, County, ,, Florida, USA]</td>\n",
       "      <td>12</td>\n",
       "    </tr>\n",
       "    <tr>\n",
       "      <th>123471</th>\n",
       "      <td>1159167411268067328</td>\n",
       "      <td>2019-08-07 18:20:21</td>\n",
       "      <td>Big Phat Pussy. Mufasa!</td>\n",
       "      <td>iphone</td>\n",
       "      <td>-84.188910</td>\n",
       "      <td>33.875997</td>\n",
       "      <td>tl</td>\n",
       "      <td>[Big, Phat, Pussy., Mufasa!]</td>\n",
       "      <td>4</td>\n",
       "    </tr>\n",
       "  </tbody>\n",
       "</table>\n",
       "</div>"
      ],
      "text/plain": [
       "                 message_id                 date  \\\n",
       "123427  1184852325468233728  2019-10-17 15:23:02   \n",
       "123429  1184774001542844416  2019-10-17 10:11:48   \n",
       "123438  1176192315599273984  2019-09-23 17:51:15   \n",
       "123446  1209590783193559040  2019-12-24 21:44:50   \n",
       "123447  1184804161042317312  2019-10-17 12:11:39   \n",
       "123460  1209628934280605697  2019-12-25 00:16:26   \n",
       "123463  1158919524768292866  2019-08-07 01:55:21   \n",
       "123465  1179558353229496320  2019-10-03 00:46:41   \n",
       "123467  1168614984395493377  2019-09-02 20:01:38   \n",
       "123471  1159167411268067328  2019-08-07 18:20:21   \n",
       "\n",
       "                                                                                                                                                                                                                    text  \\\n",
       "123427                                                                                                                                                                                 se puso un mercado en arboledas!!   \n",
       "123429                                                                                                                                                                                    @ Paradise Cove , Malibu Beach   \n",
       "123438                                                                                                                                                                                   Ladies and gentlemen we got him   \n",
       "123446                                                                                                                                                                               @ xquisite barbershop  got me rite!   \n",
       "123447  UN LUGAR PARA COMENZAR! Cuando se trata de conocer a Dios, todos estamos en diferentes lugares. Algunos estn buscando, otros tienen dudas, algunos son escpticos y otros conocen muy poco sobre la fe. Si deseas   \n",
       "123460                                                                                                                                                                Se canso de ser buena, ahora es ella quien los usa   \n",
       "123463                                                                                                                                                     Ok google how to not get diabetes while drinking mdf everyday   \n",
       "123465                                                                                                                                                                                                       1 day down    \n",
       "123467                                                                                                                                               Vientos de Dorian comienzan a llegar a Broward County , Florida USA   \n",
       "123471                                                                                                                                                                                           Big Phat Pussy. Mufasa!   \n",
       "\n",
       "           source   longitude  latittude lang  \\\n",
       "123427    Android -100.356369  25.649205   es   \n",
       "123429  Instagram -118.536983  34.036118   en   \n",
       "123438    Android  -91.530593  41.663649   af   \n",
       "123446     iphone  -90.034696  29.992697   af   \n",
       "123447  Instagram  -74.012500  40.804200   es   \n",
       "123460        ios -111.973819  33.469543   es   \n",
       "123463        ios -122.428288  37.769653   af   \n",
       "123465    Android  -82.930835  43.708908   so   \n",
       "123467     iphone  -80.317631  26.151314   es   \n",
       "123471     iphone  -84.188910  33.875997   tl   \n",
       "\n",
       "                                                                                                                                                                                                                                                  split_text  \\\n",
       "123427                                                                                                                                                                                                              [se, puso, un, mercado, en, arboledas!!]   \n",
       "123429                                                                                                                                                                                                                 [@, Paradise, Cove, ,, Malibu, Beach]   \n",
       "123438                                                                                                                                                                                                                [Ladies, and, gentlemen, we, got, him]   \n",
       "123446                                                                                                                                                                                                             [@, xquisite, barbershop, got, me, rite!]   \n",
       "123447  [UN, LUGAR, PARA, COMENZAR!, Cuando, se, trata, de, conocer, a, Dios,, todos, estamos, en, diferentes, lugares., Algunos, estn, buscando,, otros, tienen, dudas,, algunos, son, escpticos, y, otros, conocen, muy, poco, sobre, la, fe., Si, deseas]   \n",
       "123460                                                                                                                                                                                        [Se, canso, de, ser, buena,, ahora, es, ella, quien, los, usa]   \n",
       "123463                                                                                                                                                                             [Ok, google, how, to, not, get, diabetes, while, drinking, mdf, everyday]   \n",
       "123465                                                                                                                                                                                                                                        [1, day, down]   \n",
       "123467                                                                                                                                                                      [Vientos, de, Dorian, comienzan, a, llegar, a, Broward, County, ,, Florida, USA]   \n",
       "123471                                                                                                                                                                                                                          [Big, Phat, Pussy., Mufasa!]   \n",
       "\n",
       "        WordsCount  \n",
       "123427           6  \n",
       "123429           6  \n",
       "123438           6  \n",
       "123446           6  \n",
       "123447          35  \n",
       "123460          11  \n",
       "123463          11  \n",
       "123465           3  \n",
       "123467          12  \n",
       "123471           4  "
      ]
     },
     "execution_count": 25,
     "metadata": {},
     "output_type": "execute_result"
    }
   ],
   "source": [
    "# Detecting the source language and catching error for undetected cells\n",
    "def detect_lang(text):\n",
    "    try:\n",
    "        lang = detect(text)\n",
    "    except:\n",
    "        lang = 'Other'\n",
    "    return lang\n",
    "\n",
    "df['lang'] = df['text'].apply(detect_lang)\n",
    "df.tail(10)"
   ]
  },
  {
   "cell_type": "code",
   "execution_count": null,
   "id": "87469d15",
   "metadata": {},
   "outputs": [],
   "source": []
  },
  {
   "cell_type": "markdown",
   "id": "30737f81",
   "metadata": {},
   "source": [
    "## 2. Split languages "
   ]
  },
  {
   "cell_type": "code",
   "execution_count": 26,
   "id": "1443ab6d",
   "metadata": {},
   "outputs": [
    {
     "data": {
      "text/plain": [
       "(1539, 9)"
      ]
     },
     "execution_count": 26,
     "metadata": {},
     "output_type": "execute_result"
    }
   ],
   "source": [
    "df_en = df.loc[df['lang'] == 'en']\n",
    "df_en.shape"
   ]
  },
  {
   "cell_type": "code",
   "execution_count": 27,
   "id": "decab248",
   "metadata": {},
   "outputs": [],
   "source": [
    "df_en.to_csv('data2//data_english2.csv')"
   ]
  },
  {
   "cell_type": "code",
   "execution_count": 28,
   "id": "025b67a1",
   "metadata": {},
   "outputs": [
    {
     "data": {
      "text/plain": [
       "31"
      ]
     },
     "execution_count": 28,
     "metadata": {},
     "output_type": "execute_result"
    }
   ],
   "source": [
    "df_not_en = df.loc[df['lang'] != 'en']\n",
    "df_not_en['lang'].nunique()"
   ]
  },
  {
   "cell_type": "code",
   "execution_count": 29,
   "id": "bffe5d1e",
   "metadata": {},
   "outputs": [
    {
     "data": {
      "text/plain": [
       "(14059, 9)"
      ]
     },
     "execution_count": 29,
     "metadata": {},
     "output_type": "execute_result"
    }
   ],
   "source": [
    "df_not_en.shape"
   ]
  },
  {
   "cell_type": "code",
   "execution_count": 30,
   "id": "4b050e63",
   "metadata": {},
   "outputs": [
    {
     "data": {
      "text/plain": [
       "(14033, 9)"
      ]
     },
     "execution_count": 30,
     "metadata": {},
     "output_type": "execute_result"
    }
   ],
   "source": [
    "df_not_en2 = df_not_en.loc[df_not_en['lang'] != 'Other']\n",
    "df_not_en2.shape"
   ]
  },
  {
   "cell_type": "code",
   "execution_count": 31,
   "id": "a6c78f97",
   "metadata": {},
   "outputs": [
    {
     "data": {
      "text/html": [
       "<div>\n",
       "<style scoped>\n",
       "    .dataframe tbody tr th:only-of-type {\n",
       "        vertical-align: middle;\n",
       "    }\n",
       "\n",
       "    .dataframe tbody tr th {\n",
       "        vertical-align: top;\n",
       "    }\n",
       "\n",
       "    .dataframe thead th {\n",
       "        text-align: right;\n",
       "    }\n",
       "</style>\n",
       "<table border=\"1\" class=\"dataframe\">\n",
       "  <thead>\n",
       "    <tr style=\"text-align: right;\">\n",
       "      <th></th>\n",
       "      <th>message_id</th>\n",
       "      <th>date</th>\n",
       "      <th>text</th>\n",
       "      <th>source</th>\n",
       "      <th>longitude</th>\n",
       "      <th>latittude</th>\n",
       "      <th>lang</th>\n",
       "      <th>split_text</th>\n",
       "      <th>WordsCount</th>\n",
       "    </tr>\n",
       "  </thead>\n",
       "  <tbody>\n",
       "    <tr>\n",
       "      <th>22</th>\n",
       "      <td>1159898752230076416</td>\n",
       "      <td>2019-08-09 18:46:27</td>\n",
       "      <td>Camin arranca cable y deja sin luz calle Ignacio Altamirano entre Melchor Ocampo y Fco Coss</td>\n",
       "      <td>Android</td>\n",
       "      <td>-101.030749</td>\n",
       "      <td>25.412433</td>\n",
       "      <td>es</td>\n",
       "      <td>[Camin, arranca, cable, y, deja, sin, luz, calle, Ignacio, Altamirano, entre, Melchor, Ocampo, y, Fco, Coss]</td>\n",
       "      <td>16</td>\n",
       "    </tr>\n",
       "    <tr>\n",
       "      <th>29</th>\n",
       "      <td>1159597188915322882</td>\n",
       "      <td>2019-08-08 22:48:08</td>\n",
       "      <td>my bad i been slacking</td>\n",
       "      <td>ios</td>\n",
       "      <td>-73.984050</td>\n",
       "      <td>40.701233</td>\n",
       "      <td>sv</td>\n",
       "      <td>[my, bad, i, been, slacking]</td>\n",
       "      <td>5</td>\n",
       "    </tr>\n",
       "    <tr>\n",
       "      <th>30</th>\n",
       "      <td>1196536946857840640</td>\n",
       "      <td>2019-11-18 21:13:33</td>\n",
       "      <td>I'm gonna smoke a cigarette</td>\n",
       "      <td>Android</td>\n",
       "      <td>-77.469984</td>\n",
       "      <td>39.723832</td>\n",
       "      <td>sv</td>\n",
       "      <td>[I'm, gonna, smoke, a, cigarette]</td>\n",
       "      <td>5</td>\n",
       "    </tr>\n",
       "  </tbody>\n",
       "</table>\n",
       "</div>"
      ],
      "text/plain": [
       "             message_id                 date  \\\n",
       "22  1159898752230076416  2019-08-09 18:46:27   \n",
       "29  1159597188915322882  2019-08-08 22:48:08   \n",
       "30  1196536946857840640  2019-11-18 21:13:33   \n",
       "\n",
       "                                                                                            text  \\\n",
       "22   Camin arranca cable y deja sin luz calle Ignacio Altamirano entre Melchor Ocampo y Fco Coss   \n",
       "29                                                                        my bad i been slacking   \n",
       "30                                                                   I'm gonna smoke a cigarette   \n",
       "\n",
       "     source   longitude  latittude lang  \\\n",
       "22  Android -101.030749  25.412433   es   \n",
       "29      ios  -73.984050  40.701233   sv   \n",
       "30  Android  -77.469984  39.723832   sv   \n",
       "\n",
       "                                                                                                      split_text  \\\n",
       "22  [Camin, arranca, cable, y, deja, sin, luz, calle, Ignacio, Altamirano, entre, Melchor, Ocampo, y, Fco, Coss]   \n",
       "29                                                                                  [my, bad, i, been, slacking]   \n",
       "30                                                                             [I'm, gonna, smoke, a, cigarette]   \n",
       "\n",
       "    WordsCount  \n",
       "22          16  \n",
       "29           5  \n",
       "30           5  "
      ]
     },
     "execution_count": 31,
     "metadata": {},
     "output_type": "execute_result"
    }
   ],
   "source": [
    "df_not_en2.head(3)"
   ]
  },
  {
   "cell_type": "code",
   "execution_count": null,
   "id": "09339cd7",
   "metadata": {},
   "outputs": [],
   "source": []
  },
  {
   "cell_type": "code",
   "execution_count": 18,
   "id": "7c361959",
   "metadata": {},
   "outputs": [
    {
     "data": {
      "text/plain": [
       "(18270, 7)"
      ]
     },
     "execution_count": 18,
     "metadata": {},
     "output_type": "execute_result"
    }
   ],
   "source": [
    "#Drop hashtag words\n",
    "df_not_en2['text'] = df_not_en2['text'].replace(r'#\\S+', '', regex=True)\n",
    "df_not_en2.shape"
   ]
  },
  {
   "cell_type": "code",
   "execution_count": 19,
   "id": "48e43d57",
   "metadata": {},
   "outputs": [
    {
     "data": {
      "text/plain": [
       "(18270, 7)"
      ]
     },
     "execution_count": 19,
     "metadata": {},
     "output_type": "execute_result"
    }
   ],
   "source": [
    "#Drop @ words\n",
    "df_not_en2['text'] = df_not_en2['text'].replace(r'@\\S+', '', regex=True)\n",
    "df_not_en2.shape"
   ]
  },
  {
   "cell_type": "code",
   "execution_count": 20,
   "id": "e3602b24",
   "metadata": {},
   "outputs": [
    {
     "data": {
      "text/html": [
       "<div>\n",
       "<style scoped>\n",
       "    .dataframe tbody tr th:only-of-type {\n",
       "        vertical-align: middle;\n",
       "    }\n",
       "\n",
       "    .dataframe tbody tr th {\n",
       "        vertical-align: top;\n",
       "    }\n",
       "\n",
       "    .dataframe thead th {\n",
       "        text-align: right;\n",
       "    }\n",
       "</style>\n",
       "<table border=\"1\" class=\"dataframe\">\n",
       "  <thead>\n",
       "    <tr style=\"text-align: right;\">\n",
       "      <th></th>\n",
       "      <th>message_id</th>\n",
       "      <th>date</th>\n",
       "      <th>text</th>\n",
       "      <th>source</th>\n",
       "      <th>longitude</th>\n",
       "      <th>latittude</th>\n",
       "      <th>lang</th>\n",
       "    </tr>\n",
       "  </thead>\n",
       "  <tbody>\n",
       "    <tr>\n",
       "      <th>5</th>\n",
       "      <td>1178493255786229760</td>\n",
       "      <td>2019-09-30 02:14:22</td>\n",
       "      <td>Evening mood</td>\n",
       "      <td>iphone</td>\n",
       "      <td>-117.463168</td>\n",
       "      <td>34.144678</td>\n",
       "      <td>da</td>\n",
       "    </tr>\n",
       "    <tr>\n",
       "      <th>22</th>\n",
       "      <td>1159898752230076416</td>\n",
       "      <td>2019-08-09 18:46:27</td>\n",
       "      <td>Camin arranca cable y deja sin luz calle Ignacio Altamirano entre Melchor Ocampo y Fco Coss</td>\n",
       "      <td>Android</td>\n",
       "      <td>-101.030749</td>\n",
       "      <td>25.412433</td>\n",
       "      <td>es</td>\n",
       "    </tr>\n",
       "    <tr>\n",
       "      <th>29</th>\n",
       "      <td>1159597188915322882</td>\n",
       "      <td>2019-08-08 22:48:08</td>\n",
       "      <td>my bad i been slacking</td>\n",
       "      <td>ios</td>\n",
       "      <td>-73.984050</td>\n",
       "      <td>40.701233</td>\n",
       "      <td>so</td>\n",
       "    </tr>\n",
       "    <tr>\n",
       "      <th>30</th>\n",
       "      <td>1196536946857840640</td>\n",
       "      <td>2019-11-18 21:13:33</td>\n",
       "      <td>I'm gonna smoke a cigarette</td>\n",
       "      <td>Android</td>\n",
       "      <td>-77.469984</td>\n",
       "      <td>39.723832</td>\n",
       "      <td>sv</td>\n",
       "    </tr>\n",
       "    <tr>\n",
       "      <th>31</th>\n",
       "      <td>1184795263308689409</td>\n",
       "      <td>2019-10-17 11:36:17</td>\n",
       "      <td>@ Louisville, Kentucky</td>\n",
       "      <td>Instagram</td>\n",
       "      <td>-85.755400</td>\n",
       "      <td>38.252500</td>\n",
       "      <td>fi</td>\n",
       "    </tr>\n",
       "    <tr>\n",
       "      <th>45</th>\n",
       "      <td>1192876056237297664</td>\n",
       "      <td>2019-11-08 18:46:29</td>\n",
       "      <td>Estoy temblando ahora mismo</td>\n",
       "      <td>ios</td>\n",
       "      <td>-73.569246</td>\n",
       "      <td>45.517792</td>\n",
       "      <td>es</td>\n",
       "    </tr>\n",
       "    <tr>\n",
       "      <th>46</th>\n",
       "      <td>1203415581862612993</td>\n",
       "      <td>2019-12-07 20:46:47</td>\n",
       "      <td>now we dont get to see Jalen Hurts v. Alabama.</td>\n",
       "      <td>ios</td>\n",
       "      <td>-87.073622</td>\n",
       "      <td>37.733368</td>\n",
       "      <td>nl</td>\n",
       "    </tr>\n",
       "    <tr>\n",
       "      <th>54</th>\n",
       "      <td>1198885923926114307</td>\n",
       "      <td>2019-11-25 08:47:33</td>\n",
       "      <td>IHi guys Im drunk</td>\n",
       "      <td>iphone</td>\n",
       "      <td>-116.236782</td>\n",
       "      <td>33.719138</td>\n",
       "      <td>lt</td>\n",
       "    </tr>\n",
       "    <tr>\n",
       "      <th>62</th>\n",
       "      <td>1165672474152976385</td>\n",
       "      <td>2019-08-25 17:09:09</td>\n",
       "      <td>Im Walmart like... yall go get my Onlyfans</td>\n",
       "      <td>iphone</td>\n",
       "      <td>-81.462392</td>\n",
       "      <td>28.515472</td>\n",
       "      <td>sv</td>\n",
       "    </tr>\n",
       "    <tr>\n",
       "      <th>78</th>\n",
       "      <td>1193919489970200578</td>\n",
       "      <td>2019-11-11 15:52:43</td>\n",
       "      <td>Walking to work (@ Roses in Oak Ridge, FL)</td>\n",
       "      <td>Foursquare</td>\n",
       "      <td>-81.407386</td>\n",
       "      <td>28.487601</td>\n",
       "      <td>af</td>\n",
       "    </tr>\n",
       "  </tbody>\n",
       "</table>\n",
       "</div>"
      ],
      "text/plain": [
       "             message_id                 date  \\\n",
       "5   1178493255786229760  2019-09-30 02:14:22   \n",
       "22  1159898752230076416  2019-08-09 18:46:27   \n",
       "29  1159597188915322882  2019-08-08 22:48:08   \n",
       "30  1196536946857840640  2019-11-18 21:13:33   \n",
       "31  1184795263308689409  2019-10-17 11:36:17   \n",
       "45  1192876056237297664  2019-11-08 18:46:29   \n",
       "46  1203415581862612993  2019-12-07 20:46:47   \n",
       "54  1198885923926114307  2019-11-25 08:47:33   \n",
       "62  1165672474152976385  2019-08-25 17:09:09   \n",
       "78  1193919489970200578  2019-11-11 15:52:43   \n",
       "\n",
       "                                                                                            text  \\\n",
       "5                                                                                 Evening mood     \n",
       "22   Camin arranca cable y deja sin luz calle Ignacio Altamirano entre Melchor Ocampo y Fco Coss   \n",
       "29                                                                        my bad i been slacking   \n",
       "30                                                                   I'm gonna smoke a cigarette   \n",
       "31                                                                        @ Louisville, Kentucky   \n",
       "45                                                                   Estoy temblando ahora mismo   \n",
       "46                                                now we dont get to see Jalen Hurts v. Alabama.   \n",
       "54                                                                             IHi guys Im drunk   \n",
       "62                                                    Im Walmart like... yall go get my Onlyfans   \n",
       "78                                                    Walking to work (@ Roses in Oak Ridge, FL)   \n",
       "\n",
       "        source   longitude  latittude lang  \n",
       "5       iphone -117.463168  34.144678   da  \n",
       "22     Android -101.030749  25.412433   es  \n",
       "29         ios  -73.984050  40.701233   so  \n",
       "30     Android  -77.469984  39.723832   sv  \n",
       "31   Instagram  -85.755400  38.252500   fi  \n",
       "45         ios  -73.569246  45.517792   es  \n",
       "46         ios  -87.073622  37.733368   nl  \n",
       "54      iphone -116.236782  33.719138   lt  \n",
       "62      iphone  -81.462392  28.515472   sv  \n",
       "78  Foursquare  -81.407386  28.487601   af  "
      ]
     },
     "execution_count": 20,
     "metadata": {},
     "output_type": "execute_result"
    }
   ],
   "source": [
    "#Drop hashtag words\n",
    "df_not_en2.head(10)"
   ]
  },
  {
   "cell_type": "code",
   "execution_count": 22,
   "id": "cdbee00b",
   "metadata": {},
   "outputs": [
    {
     "data": {
      "text/plain": [
       "(15598, 9)"
      ]
     },
     "execution_count": 22,
     "metadata": {},
     "output_type": "execute_result"
    }
   ],
   "source": [
    "#Extract posts with 3 or more words\n",
    "df_not_en2['split_text']=df_not_en2['text'].str.split()\n",
    "df_not_en2['WordsCount']=df_not_en2['split_text'].apply(lambda x: len(x))\n",
    "df_not_en2=df_not_en2[(df_not_en2['WordsCount']>= 3)]\n",
    "df_not_en2.shape"
   ]
  },
  {
   "cell_type": "code",
   "execution_count": 23,
   "id": "cb11bb3f",
   "metadata": {},
   "outputs": [
    {
     "data": {
      "text/html": [
       "<div>\n",
       "<style scoped>\n",
       "    .dataframe tbody tr th:only-of-type {\n",
       "        vertical-align: middle;\n",
       "    }\n",
       "\n",
       "    .dataframe tbody tr th {\n",
       "        vertical-align: top;\n",
       "    }\n",
       "\n",
       "    .dataframe thead th {\n",
       "        text-align: right;\n",
       "    }\n",
       "</style>\n",
       "<table border=\"1\" class=\"dataframe\">\n",
       "  <thead>\n",
       "    <tr style=\"text-align: right;\">\n",
       "      <th></th>\n",
       "      <th>message_id</th>\n",
       "      <th>date</th>\n",
       "      <th>text</th>\n",
       "      <th>source</th>\n",
       "      <th>longitude</th>\n",
       "      <th>latittude</th>\n",
       "      <th>lang</th>\n",
       "      <th>split_text</th>\n",
       "      <th>WordsCount</th>\n",
       "    </tr>\n",
       "  </thead>\n",
       "  <tbody>\n",
       "    <tr>\n",
       "      <th>22</th>\n",
       "      <td>1159898752230076416</td>\n",
       "      <td>2019-08-09 18:46:27</td>\n",
       "      <td>Camin arranca cable y deja sin luz calle Ignacio Altamirano entre Melchor Ocampo y Fco Coss</td>\n",
       "      <td>Android</td>\n",
       "      <td>-101.030749</td>\n",
       "      <td>25.412433</td>\n",
       "      <td>es</td>\n",
       "      <td>[Camin, arranca, cable, y, deja, sin, luz, calle, Ignacio, Altamirano, entre, Melchor, Ocampo, y, Fco, Coss]</td>\n",
       "      <td>16</td>\n",
       "    </tr>\n",
       "    <tr>\n",
       "      <th>29</th>\n",
       "      <td>1159597188915322882</td>\n",
       "      <td>2019-08-08 22:48:08</td>\n",
       "      <td>my bad i been slacking</td>\n",
       "      <td>ios</td>\n",
       "      <td>-73.984050</td>\n",
       "      <td>40.701233</td>\n",
       "      <td>so</td>\n",
       "      <td>[my, bad, i, been, slacking]</td>\n",
       "      <td>5</td>\n",
       "    </tr>\n",
       "    <tr>\n",
       "      <th>30</th>\n",
       "      <td>1196536946857840640</td>\n",
       "      <td>2019-11-18 21:13:33</td>\n",
       "      <td>I'm gonna smoke a cigarette</td>\n",
       "      <td>Android</td>\n",
       "      <td>-77.469984</td>\n",
       "      <td>39.723832</td>\n",
       "      <td>sv</td>\n",
       "      <td>[I'm, gonna, smoke, a, cigarette]</td>\n",
       "      <td>5</td>\n",
       "    </tr>\n",
       "    <tr>\n",
       "      <th>31</th>\n",
       "      <td>1184795263308689409</td>\n",
       "      <td>2019-10-17 11:36:17</td>\n",
       "      <td>@ Louisville, Kentucky</td>\n",
       "      <td>Instagram</td>\n",
       "      <td>-85.755400</td>\n",
       "      <td>38.252500</td>\n",
       "      <td>fi</td>\n",
       "      <td>[@, Louisville,, Kentucky]</td>\n",
       "      <td>3</td>\n",
       "    </tr>\n",
       "    <tr>\n",
       "      <th>45</th>\n",
       "      <td>1192876056237297664</td>\n",
       "      <td>2019-11-08 18:46:29</td>\n",
       "      <td>Estoy temblando ahora mismo</td>\n",
       "      <td>ios</td>\n",
       "      <td>-73.569246</td>\n",
       "      <td>45.517792</td>\n",
       "      <td>es</td>\n",
       "      <td>[Estoy, temblando, ahora, mismo]</td>\n",
       "      <td>4</td>\n",
       "    </tr>\n",
       "    <tr>\n",
       "      <th>46</th>\n",
       "      <td>1203415581862612993</td>\n",
       "      <td>2019-12-07 20:46:47</td>\n",
       "      <td>now we dont get to see Jalen Hurts v. Alabama.</td>\n",
       "      <td>ios</td>\n",
       "      <td>-87.073622</td>\n",
       "      <td>37.733368</td>\n",
       "      <td>nl</td>\n",
       "      <td>[now, we, dont, get, to, see, Jalen, Hurts, v., Alabama.]</td>\n",
       "      <td>10</td>\n",
       "    </tr>\n",
       "    <tr>\n",
       "      <th>54</th>\n",
       "      <td>1198885923926114307</td>\n",
       "      <td>2019-11-25 08:47:33</td>\n",
       "      <td>IHi guys Im drunk</td>\n",
       "      <td>iphone</td>\n",
       "      <td>-116.236782</td>\n",
       "      <td>33.719138</td>\n",
       "      <td>lt</td>\n",
       "      <td>[IHi, guys, Im, drunk]</td>\n",
       "      <td>4</td>\n",
       "    </tr>\n",
       "    <tr>\n",
       "      <th>62</th>\n",
       "      <td>1165672474152976385</td>\n",
       "      <td>2019-08-25 17:09:09</td>\n",
       "      <td>Im Walmart like... yall go get my Onlyfans</td>\n",
       "      <td>iphone</td>\n",
       "      <td>-81.462392</td>\n",
       "      <td>28.515472</td>\n",
       "      <td>sv</td>\n",
       "      <td>[Im, Walmart, like..., yall, go, get, my, Onlyfans]</td>\n",
       "      <td>8</td>\n",
       "    </tr>\n",
       "    <tr>\n",
       "      <th>78</th>\n",
       "      <td>1193919489970200578</td>\n",
       "      <td>2019-11-11 15:52:43</td>\n",
       "      <td>Walking to work (@ Roses in Oak Ridge, FL)</td>\n",
       "      <td>Foursquare</td>\n",
       "      <td>-81.407386</td>\n",
       "      <td>28.487601</td>\n",
       "      <td>af</td>\n",
       "      <td>[Walking, to, work, (@, Roses, in, Oak, Ridge,, FL)]</td>\n",
       "      <td>9</td>\n",
       "    </tr>\n",
       "    <tr>\n",
       "      <th>79</th>\n",
       "      <td>1198040435240980480</td>\n",
       "      <td>2019-11-23 00:47:52</td>\n",
       "      <td>I love pee dees steakhouse</td>\n",
       "      <td>iphone</td>\n",
       "      <td>-73.942827</td>\n",
       "      <td>40.794213</td>\n",
       "      <td>nl</td>\n",
       "      <td>[I, love, pee, dees, steakhouse]</td>\n",
       "      <td>5</td>\n",
       "    </tr>\n",
       "  </tbody>\n",
       "</table>\n",
       "</div>"
      ],
      "text/plain": [
       "             message_id                 date  \\\n",
       "22  1159898752230076416  2019-08-09 18:46:27   \n",
       "29  1159597188915322882  2019-08-08 22:48:08   \n",
       "30  1196536946857840640  2019-11-18 21:13:33   \n",
       "31  1184795263308689409  2019-10-17 11:36:17   \n",
       "45  1192876056237297664  2019-11-08 18:46:29   \n",
       "46  1203415581862612993  2019-12-07 20:46:47   \n",
       "54  1198885923926114307  2019-11-25 08:47:33   \n",
       "62  1165672474152976385  2019-08-25 17:09:09   \n",
       "78  1193919489970200578  2019-11-11 15:52:43   \n",
       "79  1198040435240980480  2019-11-23 00:47:52   \n",
       "\n",
       "                                                                                            text  \\\n",
       "22   Camin arranca cable y deja sin luz calle Ignacio Altamirano entre Melchor Ocampo y Fco Coss   \n",
       "29                                                                        my bad i been slacking   \n",
       "30                                                                   I'm gonna smoke a cigarette   \n",
       "31                                                                        @ Louisville, Kentucky   \n",
       "45                                                                   Estoy temblando ahora mismo   \n",
       "46                                                now we dont get to see Jalen Hurts v. Alabama.   \n",
       "54                                                                             IHi guys Im drunk   \n",
       "62                                                    Im Walmart like... yall go get my Onlyfans   \n",
       "78                                                    Walking to work (@ Roses in Oak Ridge, FL)   \n",
       "79                                                                    I love pee dees steakhouse   \n",
       "\n",
       "        source   longitude  latittude lang  \\\n",
       "22     Android -101.030749  25.412433   es   \n",
       "29         ios  -73.984050  40.701233   so   \n",
       "30     Android  -77.469984  39.723832   sv   \n",
       "31   Instagram  -85.755400  38.252500   fi   \n",
       "45         ios  -73.569246  45.517792   es   \n",
       "46         ios  -87.073622  37.733368   nl   \n",
       "54      iphone -116.236782  33.719138   lt   \n",
       "62      iphone  -81.462392  28.515472   sv   \n",
       "78  Foursquare  -81.407386  28.487601   af   \n",
       "79      iphone  -73.942827  40.794213   nl   \n",
       "\n",
       "                                                                                                      split_text  \\\n",
       "22  [Camin, arranca, cable, y, deja, sin, luz, calle, Ignacio, Altamirano, entre, Melchor, Ocampo, y, Fco, Coss]   \n",
       "29                                                                                  [my, bad, i, been, slacking]   \n",
       "30                                                                             [I'm, gonna, smoke, a, cigarette]   \n",
       "31                                                                                    [@, Louisville,, Kentucky]   \n",
       "45                                                                              [Estoy, temblando, ahora, mismo]   \n",
       "46                                                     [now, we, dont, get, to, see, Jalen, Hurts, v., Alabama.]   \n",
       "54                                                                                        [IHi, guys, Im, drunk]   \n",
       "62                                                           [Im, Walmart, like..., yall, go, get, my, Onlyfans]   \n",
       "78                                                          [Walking, to, work, (@, Roses, in, Oak, Ridge,, FL)]   \n",
       "79                                                                              [I, love, pee, dees, steakhouse]   \n",
       "\n",
       "    WordsCount  \n",
       "22          16  \n",
       "29           5  \n",
       "30           5  \n",
       "31           3  \n",
       "45           4  \n",
       "46          10  \n",
       "54           4  \n",
       "62           8  \n",
       "78           9  \n",
       "79           5  "
      ]
     },
     "execution_count": 23,
     "metadata": {},
     "output_type": "execute_result"
    }
   ],
   "source": [
    "df_not_en2.head(10)"
   ]
  },
  {
   "cell_type": "code",
   "execution_count": null,
   "id": "7b690c67",
   "metadata": {},
   "outputs": [],
   "source": [
    "df_not_en2.to_csv('data//data_not_english.csv')"
   ]
  },
  {
   "cell_type": "markdown",
   "id": "b7e53e4b",
   "metadata": {},
   "source": [
    "## 3. Translate "
   ]
  },
  {
   "cell_type": "code",
   "execution_count": 4,
   "id": "48cfa2f4",
   "metadata": {},
   "outputs": [
    {
     "data": {
      "text/plain": [
       "(10188, 12)"
      ]
     },
     "execution_count": 4,
     "metadata": {},
     "output_type": "execute_result"
    }
   ],
   "source": [
    "df = pd.read_csv('data//data_not_english.csv')\n",
    "df.shape"
   ]
  },
  {
   "cell_type": "code",
   "execution_count": 5,
   "id": "fa67acb1",
   "metadata": {},
   "outputs": [],
   "source": [
    "from google_trans_new import google_translator  \n",
    "translator = google_translator() "
   ]
  },
  {
   "cell_type": "markdown",
   "id": "2e086d68",
   "metadata": {},
   "source": [
    "### Incase of error: *JSONDecodeError Extra Data* \n",
    "- open the google_trans_new.py installed in your environment. \n",
    "- Change line 151 in google_trans_new/google_trans_new.py which is: response = (decoded_line + ']') to response = decoded_line\n",
    "- Recurrent errors; follow https://stackoverflow.com/questions/68214591/python-google-trans-new-translate-raises-error-jsondecodeerror-extra-data "
   ]
  },
  {
   "cell_type": "code",
   "execution_count": 6,
   "id": "d8badee1",
   "metadata": {},
   "outputs": [
    {
     "name": "stdout",
     "output_type": "stream",
     "text": [
      "The sky is blue and I like bananas \n"
     ]
    }
   ],
   "source": [
    "# Checking if translator works \n",
    "translate_text = translator.translate(\"Der Himmel ist blau und ich mag Bananen\", lang_tgt='en')  \n",
    "print(translate_text)"
   ]
  },
  {
   "cell_type": "code",
   "execution_count": 7,
   "id": "c441dc12",
   "metadata": {},
   "outputs": [],
   "source": [
    "# Creating list and Index to translate and save each translated result to avoid restarting\n",
    "# Make sure to run this cell only once to avoid overwritting existing results. \n",
    "translated_values = []\n",
    "currentindex = 0"
   ]
  },
  {
   "cell_type": "code",
   "execution_count": 15,
   "id": "912e1922",
   "metadata": {},
   "outputs": [
    {
     "data": {
      "text/plain": [
       "4996"
      ]
     },
     "execution_count": 15,
     "metadata": {},
     "output_type": "execute_result"
    }
   ],
   "source": [
    "currentindex"
   ]
  },
  {
   "cell_type": "code",
   "execution_count": 14,
   "id": "41155cd5",
   "metadata": {
    "scrolled": true
   },
   "outputs": [
    {
     "ename": "google_new_transError",
     "evalue": "429 (Too Many Requests) from TTS API. Probable cause: Unknown",
     "output_type": "error",
     "traceback": [
      "\u001b[1;31m---------------------------------------------------------------------------\u001b[0m",
      "\u001b[1;31mHTTPError\u001b[0m                                 Traceback (most recent call last)",
      "File \u001b[1;32m~\\Anaconda3\\envs\\translate3\\lib\\site-packages\\google_trans_new\\google_trans_new.py:189\u001b[0m, in \u001b[0;36mgoogle_translator.translate\u001b[1;34m(self, text, lang_tgt, lang_src, pronounce)\u001b[0m\n\u001b[0;32m    188\u001b[0m                 \u001b[38;5;28;01mraise\u001b[39;00m e\n\u001b[1;32m--> 189\u001b[0m     \u001b[43mr\u001b[49m\u001b[38;5;241;43m.\u001b[39;49m\u001b[43mraise_for_status\u001b[49m\u001b[43m(\u001b[49m\u001b[43m)\u001b[49m\n\u001b[0;32m    190\u001b[0m \u001b[38;5;28;01mexcept\u001b[39;00m requests\u001b[38;5;241m.\u001b[39mexceptions\u001b[38;5;241m.\u001b[39mConnectTimeout \u001b[38;5;28;01mas\u001b[39;00m e:\n",
      "File \u001b[1;32m~\\Anaconda3\\envs\\translate3\\lib\\site-packages\\requests\\models.py:960\u001b[0m, in \u001b[0;36mResponse.raise_for_status\u001b[1;34m(self)\u001b[0m\n\u001b[0;32m    959\u001b[0m \u001b[38;5;28;01mif\u001b[39;00m http_error_msg:\n\u001b[1;32m--> 960\u001b[0m     \u001b[38;5;28;01mraise\u001b[39;00m HTTPError(http_error_msg, response\u001b[38;5;241m=\u001b[39m\u001b[38;5;28mself\u001b[39m)\n",
      "\u001b[1;31mHTTPError\u001b[0m: 429 Client Error: Too Many Requests for url: https://www.google.com/sorry/index?continue=https://translate.google.cn/_/TranslateWebserverUi/data/batchexecute&q=EgSNyQ-UGKSHwpEGIhBLsCceaUD69C2ojmXu36jIMgFy",
      "\nDuring handling of the above exception, another exception occurred:\n",
      "\u001b[1;31mgoogle_new_transError\u001b[0m                     Traceback (most recent call last)",
      "Input \u001b[1;32mIn [14]\u001b[0m, in \u001b[0;36m<module>\u001b[1;34m\u001b[0m\n\u001b[0;32m      1\u001b[0m \u001b[38;5;28;01mfor\u001b[39;00m index, row \u001b[38;5;129;01min\u001b[39;00m df\u001b[38;5;241m.\u001b[39miloc[currentindex:]\u001b[38;5;241m.\u001b[39miterrows():\n\u001b[1;32m----> 2\u001b[0m         translated_values\u001b[38;5;241m.\u001b[39mappend(\u001b[43mtranslator\u001b[49m\u001b[38;5;241;43m.\u001b[39;49m\u001b[43mtranslate\u001b[49m\u001b[43m(\u001b[49m\u001b[43mrow\u001b[49m\u001b[43m[\u001b[49m\u001b[38;5;124;43m'\u001b[39;49m\u001b[38;5;124;43mtext\u001b[39;49m\u001b[38;5;124;43m'\u001b[39;49m\u001b[43m]\u001b[49m\u001b[43m,\u001b[49m\u001b[43m \u001b[49m\u001b[43mlang_tgt\u001b[49m\u001b[43m \u001b[49m\u001b[38;5;241;43m=\u001b[39;49m\u001b[43m \u001b[49m\u001b[38;5;124;43m'\u001b[39;49m\u001b[38;5;124;43men\u001b[39;49m\u001b[38;5;124;43m'\u001b[39;49m\u001b[43m)\u001b[49m)\n\u001b[0;32m      3\u001b[0m         \u001b[38;5;28mprint\u001b[39m(\u001b[38;5;124m\"\u001b[39m\u001b[38;5;124mAdded  \u001b[39m\u001b[38;5;124m\"\u001b[39m \u001b[38;5;241m+\u001b[39m row[\u001b[38;5;124m'\u001b[39m\u001b[38;5;124mtext\u001b[39m\u001b[38;5;124m'\u001b[39m] )\n\u001b[0;32m      4\u001b[0m         \u001b[38;5;28mprint\u001b[39m(\u001b[38;5;124m\"\u001b[39m\u001b[38;5;124mIndex  \u001b[39m\u001b[38;5;124m\"\u001b[39m \u001b[38;5;241m+\u001b[39m \u001b[38;5;28mstr\u001b[39m(currentindex) )\n",
      "File \u001b[1;32m~\\Anaconda3\\envs\\translate3\\lib\\site-packages\\google_trans_new\\google_trans_new.py:194\u001b[0m, in \u001b[0;36mgoogle_translator.translate\u001b[1;34m(self, text, lang_tgt, lang_src, pronounce)\u001b[0m\n\u001b[0;32m    191\u001b[0m     \u001b[38;5;28;01mraise\u001b[39;00m e\n\u001b[0;32m    192\u001b[0m \u001b[38;5;28;01mexcept\u001b[39;00m requests\u001b[38;5;241m.\u001b[39mexceptions\u001b[38;5;241m.\u001b[39mHTTPError \u001b[38;5;28;01mas\u001b[39;00m e:\n\u001b[0;32m    193\u001b[0m     \u001b[38;5;66;03m# Request successful, bad response\u001b[39;00m\n\u001b[1;32m--> 194\u001b[0m     \u001b[38;5;28;01mraise\u001b[39;00m google_new_transError(tts\u001b[38;5;241m=\u001b[39m\u001b[38;5;28mself\u001b[39m, response\u001b[38;5;241m=\u001b[39mr)\n\u001b[0;32m    195\u001b[0m \u001b[38;5;28;01mexcept\u001b[39;00m requests\u001b[38;5;241m.\u001b[39mexceptions\u001b[38;5;241m.\u001b[39mRequestException \u001b[38;5;28;01mas\u001b[39;00m e:\n\u001b[0;32m    196\u001b[0m     \u001b[38;5;66;03m# Request failed\u001b[39;00m\n\u001b[0;32m    197\u001b[0m     \u001b[38;5;28;01mraise\u001b[39;00m google_new_transError(tts\u001b[38;5;241m=\u001b[39m\u001b[38;5;28mself\u001b[39m)\n",
      "\u001b[1;31mgoogle_new_transError\u001b[0m: 429 (Too Many Requests) from TTS API. Probable cause: Unknown"
     ]
    }
   ],
   "source": [
    "for index, row in df.iloc[currentindex:].iterrows():\n",
    "        translated_values.append(translator.translate(row['text'], lang_tgt = 'en'))\n",
    "        print(\"Added  \" + row['text'] )\n",
    "        print(\"Index  \" + str(currentindex) )\n",
    "        currentindex = currentindex + 1\n",
    "#return translated_values"
   ]
  },
  {
   "cell_type": "code",
   "execution_count": 12,
   "id": "cd67eddd",
   "metadata": {},
   "outputs": [],
   "source": [
    "df = df.drop()"
   ]
  },
  {
   "cell_type": "code",
   "execution_count": 16,
   "id": "070ab69e",
   "metadata": {},
   "outputs": [],
   "source": [
    "df = df.head(4996)"
   ]
  },
  {
   "cell_type": "code",
   "execution_count": null,
   "id": "928aaca3",
   "metadata": {},
   "outputs": [],
   "source": [
    "df.shape"
   ]
  },
  {
   "cell_type": "code",
   "execution_count": 17,
   "id": "2b00c855",
   "metadata": {},
   "outputs": [
    {
     "data": {
      "text/plain": [
       "(4996, 13)"
      ]
     },
     "execution_count": 17,
     "metadata": {},
     "output_type": "execute_result"
    }
   ],
   "source": [
    "# Appending translated values to dataframe\n",
    "df_trans = df.assign(de_text=translated_values)\n",
    "df_trans.shape"
   ]
  },
  {
   "cell_type": "code",
   "execution_count": 19,
   "id": "2c109e9d",
   "metadata": {},
   "outputs": [
    {
     "data": {
      "text/html": [
       "<div>\n",
       "<style scoped>\n",
       "    .dataframe tbody tr th:only-of-type {\n",
       "        vertical-align: middle;\n",
       "    }\n",
       "\n",
       "    .dataframe tbody tr th {\n",
       "        vertical-align: top;\n",
       "    }\n",
       "\n",
       "    .dataframe thead th {\n",
       "        text-align: right;\n",
       "    }\n",
       "</style>\n",
       "<table border=\"1\" class=\"dataframe\">\n",
       "  <thead>\n",
       "    <tr style=\"text-align: right;\">\n",
       "      <th></th>\n",
       "      <th>text</th>\n",
       "      <th>de_text</th>\n",
       "    </tr>\n",
       "  </thead>\n",
       "  <tbody>\n",
       "    <tr>\n",
       "      <th>4992</th>\n",
       "      <td>@cloakzy drop merch pls</td>\n",
       "      <td>@cloakzy drop merch pls</td>\n",
       "    </tr>\n",
       "    <tr>\n",
       "      <th>4993</th>\n",
       "      <td>Un Sobador, cura de empacho.</td>\n",
       "      <td>A bobber, cure of embarrassment.</td>\n",
       "    </tr>\n",
       "    <tr>\n",
       "      <th>4994</th>\n",
       "      <td>Lo DM en pleno TL</td>\n",
       "      <td>The DM in full TL</td>\n",
       "    </tr>\n",
       "    <tr>\n",
       "      <th>4995</th>\n",
       "      <td>Supongo que la A no haba</td>\n",
       "      <td>I guess the one</td>\n",
       "    </tr>\n",
       "    <tr>\n",
       "      <th>4996</th>\n",
       "      <td>Te lleg la ?</td>\n",
       "      <td>Do you get it?</td>\n",
       "    </tr>\n",
       "  </tbody>\n",
       "</table>\n",
       "</div>"
      ],
      "text/plain": [
       "                              text                            de_text\n",
       "4992       @cloakzy drop merch pls           @cloakzy drop merch pls \n",
       "4993  Un Sobador, cura de empacho.  A bobber, cure of embarrassment. \n",
       "4994             Lo DM en pleno TL                 The DM in full TL \n",
       "4995      Supongo que la A no haba                   I guess the one \n",
       "4996                  Te lleg la ?                    Do you get it? "
      ]
     },
     "execution_count": 19,
     "metadata": {},
     "output_type": "execute_result"
    }
   ],
   "source": [
    "df_trans[['text','de_text']].tail()"
   ]
  },
  {
   "cell_type": "code",
   "execution_count": 20,
   "id": "d53275dc",
   "metadata": {},
   "outputs": [
    {
     "data": {
      "text/plain": [
       "Index(['Unnamed: 0.2', 'Unnamed: 0', 'Unnamed: 0.1', 'id', 'date', 'text',\n",
       "       'source', 'longitude', 'latittude', 'split_text', 'WordsCount', 'lang'],\n",
       "      dtype='object')"
      ]
     },
     "execution_count": 20,
     "metadata": {},
     "output_type": "execute_result"
    }
   ],
   "source": [
    "df.columns"
   ]
  },
  {
   "cell_type": "code",
   "execution_count": 21,
   "id": "e345ef74",
   "metadata": {},
   "outputs": [],
   "source": [
    "df_trans.to_csv('data//data_non_eng_trans4996K.csv')"
   ]
  },
  {
   "cell_type": "code",
   "execution_count": null,
   "id": "b4c762e0",
   "metadata": {},
   "outputs": [],
   "source": []
  }
 ],
 "metadata": {
  "kernelspec": {
   "display_name": "Python 3",
   "language": "python",
   "name": "python3"
  },
  "language_info": {
   "codemirror_mode": {
    "name": "ipython",
    "version": 3
   },
   "file_extension": ".py",
   "mimetype": "text/x-python",
   "name": "python",
   "nbconvert_exporter": "python",
   "pygments_lexer": "ipython3",
   "version": "3.8.8"
  }
 },
 "nbformat": 4,
 "nbformat_minor": 5
}
