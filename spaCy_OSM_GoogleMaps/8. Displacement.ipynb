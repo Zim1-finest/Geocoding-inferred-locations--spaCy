{
 "cells": [
  {
   "cell_type": "markdown",
   "id": "637974e1",
   "metadata": {},
   "source": [
    "## Join geocoded locations and compute Dispalcement "
   ]
  },
  {
   "cell_type": "code",
   "execution_count": 1,
   "id": "7b0af8c1",
   "metadata": {},
   "outputs": [],
   "source": [
    "# Loading required packages for geocoding with Nominatim\n",
    "\n",
    "import geopandas as gpd \n",
    "import geopy\n",
    "import matplotlib.pyplot as plt\n",
    "from functools import partial \n",
    "from geopy import distance\n",
    "from geopy.distance import geodesic\n",
    "from tqdm import tqdm, tqdm_notebook # progress bar\n",
    "\n",
    "#initiate \n",
    "tqdm.pandas()\n",
    "import pandas as pd, numpy as np"
   ]
  },
  {
   "cell_type": "code",
   "execution_count": null,
   "id": "d6284e07",
   "metadata": {},
   "outputs": [],
   "source": [
    "#Defining files to be geocoded\n",
    "unique_files = ['FAC.csv', 'GPE.csv','ORG.csv','LOC.csv', 'FAC_GPE.csv','LOC_GPE.csv', 'ORG_GPE.csv']\n",
    "\n",
    "# Defining the address columns within corresponding files \n",
    "address_column_names = [elem.split('.')[0] for elem in unique_files]"
   ]
  },
  {
   "cell_type": "code",
   "execution_count": null,
   "id": "e918fefb",
   "metadata": {},
   "outputs": [],
   "source": [
    "results = 'Geocoding/displacement'\n",
    "ressources = 'Geocoding/nom_coords'\n",
    "for unique_file  in unique_files:\n",
    "    ressource_path =  ressources +'/nom_geocoded_' + unique_file\n",
    "    result_path =  ressources +'/dist_nom_' + unique_file\n",
    "    df = pd.read_csv(ressource_path)\n",
    "    df['distance_google'] = df.apply(lambda row: distance_calc (row),axis=1)\n",
    "    df.to_csv(result_path)"
   ]
  },
  {
   "cell_type": "code",
   "execution_count": null,
   "id": "14e065f8",
   "metadata": {},
   "outputs": [],
   "source": []
  },
  {
   "cell_type": "code",
   "execution_count": 28,
   "id": "45a471d5",
   "metadata": {},
   "outputs": [
    {
     "data": {
      "text/html": [
       "<div>\n",
       "<style scoped>\n",
       "    .dataframe tbody tr th:only-of-type {\n",
       "        vertical-align: middle;\n",
       "    }\n",
       "\n",
       "    .dataframe tbody tr th {\n",
       "        vertical-align: top;\n",
       "    }\n",
       "\n",
       "    .dataframe thead th {\n",
       "        text-align: right;\n",
       "    }\n",
       "</style>\n",
       "<table border=\"1\" class=\"dataframe\">\n",
       "  <thead>\n",
       "    <tr style=\"text-align: right;\">\n",
       "      <th></th>\n",
       "      <th>Unnamed: 0</th>\n",
       "      <th>id_x</th>\n",
       "      <th>date</th>\n",
       "      <th>source</th>\n",
       "      <th>TE</th>\n",
       "      <th>lang</th>\n",
       "      <th>en_text</th>\n",
       "      <th>LOC</th>\n",
       "      <th>location</th>\n",
       "      <th>geom_long</th>\n",
       "      <th>geom_lat</th>\n",
       "      <th>nlat</th>\n",
       "      <th>nlong</th>\n",
       "    </tr>\n",
       "  </thead>\n",
       "  <tbody>\n",
       "    <tr>\n",
       "      <th>0</th>\n",
       "      <td>0</td>\n",
       "      <td>3412188</td>\n",
       "      <td>10-Apr-20</td>\n",
       "      <td>Android</td>\n",
       "      <td>Apr-10</td>\n",
       "      <td>fr</td>\n",
       "      <td>@_Amixem #lavueDepuismonfinement with the St. ...</td>\n",
       "      <td>the St.Lawrence Cach River</td>\n",
       "      <td>NaN</td>\n",
       "      <td>-69.498244</td>\n",
       "      <td>47.917575</td>\n",
       "      <td>NaN</td>\n",
       "      <td>NaN</td>\n",
       "    </tr>\n",
       "    <tr>\n",
       "      <th>1</th>\n",
       "      <td>1</td>\n",
       "      <td>3416128</td>\n",
       "      <td>15-Apr-20</td>\n",
       "      <td>instagram</td>\n",
       "      <td>Apr-16</td>\n",
       "      <td>en</td>\n",
       "      <td>Ready, set, order... Only for free delivery in...</td>\n",
       "      <td>Treasure Valley</td>\n",
       "      <td>Treasure Valley, Claremont, Los Angeles County...</td>\n",
       "      <td>-116.390330</td>\n",
       "      <td>43.611290</td>\n",
       "      <td>34.151751</td>\n",
       "      <td>-117.692426</td>\n",
       "    </tr>\n",
       "  </tbody>\n",
       "</table>\n",
       "</div>"
      ],
      "text/plain": [
       "   Unnamed: 0     id_x       date     source      TE lang  \\\n",
       "0           0  3412188  10-Apr-20    Android  Apr-10   fr   \n",
       "1           1  3416128  15-Apr-20  instagram  Apr-16   en   \n",
       "\n",
       "                                             en_text  \\\n",
       "0  @_Amixem #lavueDepuismonfinement with the St. ...   \n",
       "1  Ready, set, order... Only for free delivery in...   \n",
       "\n",
       "                          LOC  \\\n",
       "0  the St.Lawrence Cach River   \n",
       "1             Treasure Valley   \n",
       "\n",
       "                                            location   geom_long   geom_lat  \\\n",
       "0                                                NaN  -69.498244  47.917575   \n",
       "1  Treasure Valley, Claremont, Los Angeles County... -116.390330  43.611290   \n",
       "\n",
       "        nlat       nlong  \n",
       "0        NaN         NaN  \n",
       "1  34.151751 -117.692426  "
      ]
     },
     "execution_count": 28,
     "metadata": {},
     "output_type": "execute_result"
    }
   ],
   "source": [
    "df = pd.read_csv('Geocoding//geocoded_joined//nom_LOC_full.csv')\n",
    "df.head(2)"
   ]
  },
  {
   "cell_type": "code",
   "execution_count": 1,
   "id": "dd38f635",
   "metadata": {},
   "outputs": [],
   "source": [
    "# Distance function\n",
    "\n",
    "def distance_calc (row):\n",
    "    start = (row['geom_lat'], row['geom_long'])\n",
    "    stop = (row['nlat'], row['nlong'])\n",
    "    try:\n",
    "        return geodesic(start, stop).km\n",
    "    except ValueError:\n",
    "        return np.nan\n",
    "# try, except used to catch error when computing Null values on coordinates"
   ]
  },
  {
   "cell_type": "code",
   "execution_count": 30,
   "id": "6c91588b",
   "metadata": {},
   "outputs": [
    {
     "data": {
      "text/html": [
       "<div>\n",
       "<style scoped>\n",
       "    .dataframe tbody tr th:only-of-type {\n",
       "        vertical-align: middle;\n",
       "    }\n",
       "\n",
       "    .dataframe tbody tr th {\n",
       "        vertical-align: top;\n",
       "    }\n",
       "\n",
       "    .dataframe thead th {\n",
       "        text-align: right;\n",
       "    }\n",
       "</style>\n",
       "<table border=\"1\" class=\"dataframe\">\n",
       "  <thead>\n",
       "    <tr style=\"text-align: right;\">\n",
       "      <th></th>\n",
       "      <th>Unnamed: 0</th>\n",
       "      <th>id_x</th>\n",
       "      <th>date</th>\n",
       "      <th>source</th>\n",
       "      <th>TE</th>\n",
       "      <th>lang</th>\n",
       "      <th>en_text</th>\n",
       "      <th>LOC</th>\n",
       "      <th>location</th>\n",
       "      <th>geom_long</th>\n",
       "      <th>geom_lat</th>\n",
       "      <th>nlat</th>\n",
       "      <th>nlong</th>\n",
       "      <th>distance_google</th>\n",
       "    </tr>\n",
       "  </thead>\n",
       "  <tbody>\n",
       "    <tr>\n",
       "      <th>0</th>\n",
       "      <td>0</td>\n",
       "      <td>3412188</td>\n",
       "      <td>10-Apr-20</td>\n",
       "      <td>Android</td>\n",
       "      <td>Apr-10</td>\n",
       "      <td>fr</td>\n",
       "      <td>@_Amixem #lavueDepuismonfinement with the St. ...</td>\n",
       "      <td>the St.Lawrence Cach River</td>\n",
       "      <td>NaN</td>\n",
       "      <td>-69.498244</td>\n",
       "      <td>47.917575</td>\n",
       "      <td>NaN</td>\n",
       "      <td>NaN</td>\n",
       "      <td>NaN</td>\n",
       "    </tr>\n",
       "  </tbody>\n",
       "</table>\n",
       "</div>"
      ],
      "text/plain": [
       "   Unnamed: 0     id_x       date   source      TE lang  \\\n",
       "0           0  3412188  10-Apr-20  Android  Apr-10   fr   \n",
       "\n",
       "                                             en_text  \\\n",
       "0  @_Amixem #lavueDepuismonfinement with the St. ...   \n",
       "\n",
       "                          LOC location  geom_long   geom_lat  nlat  nlong  \\\n",
       "0  the St.Lawrence Cach River      NaN -69.498244  47.917575   NaN    NaN   \n",
       "\n",
       "   distance_google  \n",
       "0              NaN  "
      ]
     },
     "execution_count": 30,
     "metadata": {},
     "output_type": "execute_result"
    }
   ],
   "source": [
    "df['distance_google'] = df.apply(lambda row: distance_calc (row),axis=1)\n",
    "df.head(1)"
   ]
  },
  {
   "cell_type": "code",
   "execution_count": null,
   "id": "03154d09",
   "metadata": {},
   "outputs": [],
   "source": []
  },
  {
   "cell_type": "code",
   "execution_count": null,
   "id": "bd10a1b6",
   "metadata": {},
   "outputs": [],
   "source": []
  },
  {
   "cell_type": "code",
   "execution_count": 31,
   "id": "969e9a45",
   "metadata": {},
   "outputs": [],
   "source": [
    "df.to_csv('Geocoding//displacement//dist_nom_LOC_full.csv')"
   ]
  },
  {
   "cell_type": "code",
   "execution_count": null,
   "id": "b5d726ad",
   "metadata": {},
   "outputs": [],
   "source": []
  },
  {
   "cell_type": "code",
   "execution_count": null,
   "id": "ac9325a7",
   "metadata": {},
   "outputs": [],
   "source": []
  }
 ],
 "metadata": {
  "kernelspec": {
   "display_name": "Python 3",
   "language": "python",
   "name": "python3"
  },
  "language_info": {
   "codemirror_mode": {
    "name": "ipython",
    "version": 3
   },
   "file_extension": ".py",
   "mimetype": "text/x-python",
   "name": "python",
   "nbconvert_exporter": "python",
   "pygments_lexer": "ipython3",
   "version": "3.8.8"
  }
 },
 "nbformat": 4,
 "nbformat_minor": 5
}
