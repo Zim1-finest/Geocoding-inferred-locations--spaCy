{
 "cells": [
  {
   "cell_type": "markdown",
   "id": "99c7a0b2",
   "metadata": {},
   "source": [
    "Env: Location_extraction"
   ]
  },
  {
   "cell_type": "code",
   "execution_count": null,
   "id": "30f62450",
   "metadata": {},
   "outputs": [],
   "source": [
    "import pandas as pd"
   ]
  },
  {
   "cell_type": "markdown",
   "id": "119f4602",
   "metadata": {},
   "source": [
    "# Setting up Nominatim "
   ]
  },
  {
   "cell_type": "code",
   "execution_count": null,
   "id": "0bf4bfd9",
   "metadata": {},
   "outputs": [],
   "source": [
    "# Loading required packages for geocoding with Nominatim\n",
    "\n",
    "import geopandas as gpd \n",
    "import geopy\n",
    "import matplotlib.pyplot as plt\n",
    "from functools import partial \n",
    "from geopy import distance\n",
    "from geopy.distance import geodesic\n",
    "from tqdm import tqdm, tqdm_notebook # progress bar\n",
    "\n",
    "#initiate \n",
    "tqdm.pandas()"
   ]
  },
  {
   "cell_type": "code",
   "execution_count": null,
   "id": "047fc8f1",
   "metadata": {},
   "outputs": [],
   "source": [
    "# user_agent is used to overide restricts of using Nominatim default user_agent.\n",
    "# If error *geopy has no attribute geocoders occurs, kill kernel and rerun line*\n",
    "\n",
    "locator = geopy.geocoders.Nominatim(user_agent='mygeocoder')"
   ]
  },
  {
   "cell_type": "code",
   "execution_count": null,
   "id": "2a22f757",
   "metadata": {},
   "outputs": [],
   "source": [
    "# Set to avoid the error of 'Too many requests 429 error'\n",
    "\n",
    "from geopy.extra.rate_limiter import RateLimiter\n",
    "geocode = RateLimiter(locator.geocode, min_delay_seconds=1)\n",
    "\n",
    "# return locations in english \n",
    "\n",
    "geocode = partial(locator.geocode, language = \"en\", timeout = 300000)"
   ]
  },
  {
   "cell_type": "markdown",
   "id": "79e8a65d",
   "metadata": {},
   "source": [
    "## Setting up folder loop"
   ]
  },
  {
   "cell_type": "code",
   "execution_count": null,
   "id": "1827157e",
   "metadata": {},
   "outputs": [],
   "source": [
    "#Defining files to be geocoded\n",
    "unique_files = ['FAC.csv', 'GPE.csv','ORG.csv','LOC.csv', 'FAC_GPE.csv','LOC_GPE.csv', 'ORG_GPE.csv']\n",
    "\n",
    "# Defining the address columns within corresponding files \n",
    "\n",
    "address_column_names = [elem.split('.')[0] for elem in unique_files]"
   ]
  },
  {
   "cell_type": "markdown",
   "id": "ddda34f3",
   "metadata": {},
   "source": [
    "# Geocoding with Nominatim"
   ]
  },
  {
   "cell_type": "code",
   "execution_count": null,
   "id": "1a7cae91",
   "metadata": {},
   "outputs": [],
   "source": [
    "ressources = 'Geocoding/unq_locations/'\n",
    "results = 'Geocoding/nom_coords'\n",
    "for unique_file,address_column_name  in zip(unique_files,address_column_names):\n",
    "    ressource_path = ressources + unique_file\n",
    "    result_path =  results +'/nom_geocoded_' + unique_file\n",
    "    df = pd.read_csv(ressource_path)\n",
    "    geocoded_values = []\n",
    "    currentindex = 0\n",
    "    for index, row in df.iloc[currentindex:].iterrows():\n",
    "        geocoded_values.append(locator.geocode(row[address_column_name], language = 'en',  timeout = 30000,))\n",
    "        #print(\"Added  \" + row['clean_text'] )\n",
    "        print(\"Index  \" + str(currentindex) )\n",
    "        currentindex = currentindex + 1\n",
    "    df = df.assign(location=geocoded_values)\n",
    "    df['nlong'] = df['location'].apply(lambda x: x.longitude if x else None)\n",
    "    df['nlat'] = df['location'].apply(lambda x: x.latitude if x else None)\n",
    "    df.to_csv(result_path)"
   ]
  },
  {
   "cell_type": "code",
   "execution_count": null,
   "id": "8ca48d29",
   "metadata": {},
   "outputs": [],
   "source": []
  },
  {
   "cell_type": "code",
   "execution_count": null,
   "id": "eb8d33e7",
   "metadata": {},
   "outputs": [],
   "source": []
  }
 ],
 "metadata": {
  "kernelspec": {
   "display_name": "Python 3",
   "language": "python",
   "name": "python3"
  },
  "language_info": {
   "codemirror_mode": {
    "name": "ipython",
    "version": 3
   },
   "file_extension": ".py",
   "mimetype": "text/x-python",
   "name": "python",
   "nbconvert_exporter": "python",
   "pygments_lexer": "ipython3",
   "version": "3.8.8"
  }
 },
 "nbformat": 4,
 "nbformat_minor": 5
}
