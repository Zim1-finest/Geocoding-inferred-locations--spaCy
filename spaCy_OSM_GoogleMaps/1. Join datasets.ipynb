{
 "cells": [
  {
   "cell_type": "code",
   "execution_count": 1,
   "id": "27c98ce3",
   "metadata": {},
   "outputs": [],
   "source": [
    "import pandas as pd\n",
    "import base64\n",
    "import numpy as np"
   ]
  },
  {
   "cell_type": "code",
   "execution_count": 2,
   "id": "1ce78946",
   "metadata": {},
   "outputs": [],
   "source": [
    "import urllib\n",
    "import nltk\n",
    "import sys, os\n",
    "from typing import List\n",
    "import base64\n",
    "from sqlalchemy import create_engine\n",
    "import iso639\n",
    "import psycopg2 as pg\n",
    "pd.set_option('display.max_colwidth', 1)"
   ]
  },
  {
   "cell_type": "markdown",
   "id": "3e6422d6",
   "metadata": {},
   "source": [
    "# Connecting to the db"
   ]
  },
  {
   "cell_type": "code",
   "execution_count": 3,
   "id": "92701cec",
   "metadata": {},
   "outputs": [],
   "source": [
    "def getCursor():\n",
    "    database_settings = \"dbname=\" + dbname + \" user=\" + user + \" host=\" + host + \" port=\" + port + \" password=\" + password\n",
    "\n",
    "    engine_url = 'postgresql://' + user + ':' + password + '@' + host + ':'+ port +'/'+dbname\n",
    "    engine = create_engine(engine_url)\n",
    "\n",
    "    conn = pg.connect(database_settings)\n",
    "    cur = conn.cursor()\n",
    "    return cur,conn,engine"
   ]
  },
  {
   "cell_type": "markdown",
   "id": "3b200790",
   "metadata": {},
   "source": [
    "# Encrypting postgres password"
   ]
  },
  {
   "cell_type": "code",
   "execution_count": 4,
   "id": "7e7cb3fd",
   "metadata": {},
   "outputs": [],
   "source": [
    "#password = 'insert password'.encode(\"utf-8\")\n",
    "#encoded = base64.b64encode(password)\n",
    "\n",
    "#print(encoded)"
   ]
  },
  {
   "cell_type": "code",
   "execution_count": 5,
   "id": "4318267f",
   "metadata": {},
   "outputs": [],
   "source": [
    "dbname = 'socialmedia'\n",
    "user= 'helen'\n",
    "host= 'humandata.zgis.at'\n",
    "port= '5433'\n",
    "file = open('humandata_key.key', 'rb')\n",
    "key = file.read() # The key will be type bytes\n",
    "file.close()\n",
    "password = base64.b64decode(key).decode(\"utf-8\")\n",
    "cur,conn,engine = getCursor()"
   ]
  },
  {
   "cell_type": "code",
   "execution_count": 6,
   "id": "32d205b9",
   "metadata": {},
   "outputs": [],
   "source": [
    "schema = 'movement_detection'\n",
    "table = 'data_2019_final_selection'\n",
    "schematable = schema + '.' + table"
   ]
  },
  {
   "cell_type": "code",
   "execution_count": 9,
   "id": "725b18cf",
   "metadata": {},
   "outputs": [
    {
     "name": "stdout",
     "output_type": "stream",
     "text": [
      "SELECT * FROM movement_detection.data_2019_final_selection\n"
     ]
    }
   ],
   "source": [
    "#schematable = \"public.test_sample_location_extraction\"\n",
    "schematable = \"movement_detection.data_2019_final_selection\"\n",
    "SQL = \"SELECT * FROM \" + schematable  \n",
    "print(SQL)\n",
    "data_plus = pd.read_sql_query(SQL,con=conn)"
   ]
  },
  {
   "cell_type": "code",
   "execution_count": 10,
   "id": "f4ae2a14",
   "metadata": {},
   "outputs": [
    {
     "data": {
      "text/html": [
       "<div>\n",
       "<style scoped>\n",
       "    .dataframe tbody tr th:only-of-type {\n",
       "        vertical-align: middle;\n",
       "    }\n",
       "\n",
       "    .dataframe tbody tr th {\n",
       "        vertical-align: top;\n",
       "    }\n",
       "\n",
       "    .dataframe thead th {\n",
       "        text-align: right;\n",
       "    }\n",
       "</style>\n",
       "<table border=\"1\" class=\"dataframe\">\n",
       "  <thead>\n",
       "    <tr style=\"text-align: right;\">\n",
       "      <th></th>\n",
       "      <th>message_id</th>\n",
       "      <th>date</th>\n",
       "      <th>text</th>\n",
       "      <th>source</th>\n",
       "      <th>geom</th>\n",
       "      <th>longitude</th>\n",
       "      <th>latittude</th>\n",
       "    </tr>\n",
       "  </thead>\n",
       "  <tbody>\n",
       "    <tr>\n",
       "      <th>0</th>\n",
       "      <td>1181425472770494464</td>\n",
       "      <td>2019-10-08 04:25:57</td>\n",
       "      <td>@WinTheDay848 😍</td>\n",
       "      <td>&lt;a href=\"http://tapbots.com/tweetbot\" rel=\"nofollow\"&gt;Tweetbot for iΟS&lt;/a&gt;</td>\n",
       "      <td>0101000020E610000096CDDA75C89F5EC083F7FAFF5DB64640</td>\n",
       "      <td>-122.49661</td>\n",
       "      <td>45.424744</td>\n",
       "    </tr>\n",
       "    <tr>\n",
       "      <th>1</th>\n",
       "      <td>1187179824189788160</td>\n",
       "      <td>2019-10-24 01:31:41</td>\n",
       "      <td>Also pastors</td>\n",
       "      <td>&lt;a href=\"http://tapbots.com/tweetbot\" rel=\"nofollow\"&gt;Tweetbot for iΟS&lt;/a&gt;</td>\n",
       "      <td>0101000020E610000077851D4A9DE655C0B64BFAFFE1E64440</td>\n",
       "      <td>-87.60335</td>\n",
       "      <td>41.803772</td>\n",
       "    </tr>\n",
       "  </tbody>\n",
       "</table>\n",
       "</div>"
      ],
      "text/plain": [
       "            message_id                date             text  \\\n",
       "0  1181425472770494464 2019-10-08 04:25:57  @WinTheDay848 😍   \n",
       "1  1187179824189788160 2019-10-24 01:31:41  Also pastors      \n",
       "\n",
       "                                                                      source  \\\n",
       "0  <a href=\"http://tapbots.com/tweetbot\" rel=\"nofollow\">Tweetbot for iΟS</a>   \n",
       "1  <a href=\"http://tapbots.com/tweetbot\" rel=\"nofollow\">Tweetbot for iΟS</a>   \n",
       "\n",
       "                                                 geom  longitude  latittude  \n",
       "0  0101000020E610000096CDDA75C89F5EC083F7FAFF5DB64640 -122.49661  45.424744  \n",
       "1  0101000020E610000077851D4A9DE655C0B64BFAFFE1E64440 -87.60335   41.803772  "
      ]
     },
     "execution_count": 10,
     "metadata": {},
     "output_type": "execute_result"
    }
   ],
   "source": [
    "data_plus.head(2)"
   ]
  },
  {
   "cell_type": "code",
   "execution_count": 11,
   "id": "e52e8aea",
   "metadata": {},
   "outputs": [
    {
     "data": {
      "text/plain": [
       "array(['<a href=\"http://tapbots.com/tweetbot\" rel=\"nofollow\">Tweetbot for iΟS</a>',\n",
       "       '<a href=\"http://twitter.com/download/iphone\" rel=\"nofollow\">Twitter for iPhone</a>',\n",
       "       '<a href=\"http://twitter.com/download/android\" rel=\"nofollow\">Twitter for Android</a>',\n",
       "       '<a href=\"http://instagram.com\" rel=\"nofollow\">Instagram</a>',\n",
       "       '<a href=\"http://foursquare.com\" rel=\"nofollow\">Foursquare</a>',\n",
       "       '<a href=\"https://www.hootsuite.com\" rel=\"nofollow\">Hootsuite Inc.</a>',\n",
       "       '<a href=\"https://www.swarmapp.com\" rel=\"nofollow\">Foursquare Swarm</a>',\n",
       "       '<a href=\"https://untappd.com\" rel=\"nofollow\">Untappd</a>'],\n",
       "      dtype=object)"
      ]
     },
     "execution_count": 11,
     "metadata": {},
     "output_type": "execute_result"
    }
   ],
   "source": [
    "data_plus['source'].unique()"
   ]
  },
  {
   "cell_type": "code",
   "execution_count": 12,
   "id": "f3ea52b6",
   "metadata": {},
   "outputs": [],
   "source": [
    "data_plus = data_plus.replace({'<a href=\"http://tapbots.com/tweetbot\" rel=\"nofollow\">Tweetbot for iΟS</a>':'ios',\n",
    "                              '<a href=\"http://twitter.com/download/iphone\" rel=\"nofollow\">Twitter for iPhone</a>':'iphone',\n",
    "                              '<a href=\"http://twitter.com/download/android\" rel=\"nofollow\">Twitter for Android</a>':'Android',\n",
    "                              '<a href=\"http://instagram.com\" rel=\"nofollow\">Instagram</a>':'Instagram',\n",
    "                              '<a href=\"http://foursquare.com\" rel=\"nofollow\">Foursquare</a>':'Foursquare',\n",
    "                              '<a href=\"https://www.hootsuite.com\" rel=\"nofollow\">Hootsuite Inc.</a>':'Hootsuite',\n",
    "                              '<a href=\"https://www.swarmapp.com\" rel=\"nofollow\">Foursquare Swarm</a>':'fswarm',\n",
    "                              '<a href=\"https://untappd.com\" rel=\"nofollow\">Untappd</a>':'Untapped' })"
   ]
  },
  {
   "cell_type": "code",
   "execution_count": 13,
   "id": "555fdb17",
   "metadata": {},
   "outputs": [
    {
     "data": {
      "text/plain": [
       "array(['ios', 'iphone', 'Android', 'Instagram', 'Foursquare', 'Hootsuite',\n",
       "       'fswarm', 'Untapped'], dtype=object)"
      ]
     },
     "execution_count": 13,
     "metadata": {},
     "output_type": "execute_result"
    }
   ],
   "source": [
    "data_plus['source'].unique()"
   ]
  },
  {
   "cell_type": "code",
   "execution_count": 14,
   "id": "b7638640",
   "metadata": {},
   "outputs": [
    {
     "data": {
      "text/plain": [
       "(164599, 7)"
      ]
     },
     "execution_count": 14,
     "metadata": {},
     "output_type": "execute_result"
    }
   ],
   "source": [
    "data_plus.shape"
   ]
  },
  {
   "cell_type": "code",
   "execution_count": 16,
   "id": "5cd633d3",
   "metadata": {},
   "outputs": [
    {
     "data": {
      "text/plain": [
       "Index(['message_id', 'date', 'text', 'source', 'geom', 'longitude',\n",
       "       'latittude'],\n",
       "      dtype='object')"
      ]
     },
     "execution_count": 16,
     "metadata": {},
     "output_type": "execute_result"
    }
   ],
   "source": [
    "data_plus.columns"
   ]
  },
  {
   "cell_type": "code",
   "execution_count": 17,
   "id": "13b7c916",
   "metadata": {},
   "outputs": [
    {
     "data": {
      "text/html": [
       "<div>\n",
       "<style scoped>\n",
       "    .dataframe tbody tr th:only-of-type {\n",
       "        vertical-align: middle;\n",
       "    }\n",
       "\n",
       "    .dataframe tbody tr th {\n",
       "        vertical-align: top;\n",
       "    }\n",
       "\n",
       "    .dataframe thead th {\n",
       "        text-align: right;\n",
       "    }\n",
       "</style>\n",
       "<table border=\"1\" class=\"dataframe\">\n",
       "  <thead>\n",
       "    <tr style=\"text-align: right;\">\n",
       "      <th></th>\n",
       "      <th>message_id</th>\n",
       "      <th>date</th>\n",
       "      <th>text</th>\n",
       "      <th>source</th>\n",
       "      <th>longitude</th>\n",
       "      <th>latittude</th>\n",
       "    </tr>\n",
       "  </thead>\n",
       "  <tbody>\n",
       "    <tr>\n",
       "      <th>0</th>\n",
       "      <td>1181425472770494464</td>\n",
       "      <td>2019-10-08 04:25:57</td>\n",
       "      <td>@WinTheDay848 😍</td>\n",
       "      <td>ios</td>\n",
       "      <td>-122.496610</td>\n",
       "      <td>45.424744</td>\n",
       "    </tr>\n",
       "    <tr>\n",
       "      <th>1</th>\n",
       "      <td>1187179824189788160</td>\n",
       "      <td>2019-10-24 01:31:41</td>\n",
       "      <td>Also pastors</td>\n",
       "      <td>ios</td>\n",
       "      <td>-87.603350</td>\n",
       "      <td>41.803772</td>\n",
       "    </tr>\n",
       "    <tr>\n",
       "      <th>2</th>\n",
       "      <td>1161754851510030342</td>\n",
       "      <td>2019-08-14 21:41:55</td>\n",
       "      <td>we are in and the tickets are REAL https://t.co/xkWBsk9jzE</td>\n",
       "      <td>iphone</td>\n",
       "      <td>-96.712301</td>\n",
       "      <td>40.817276</td>\n",
       "    </tr>\n",
       "  </tbody>\n",
       "</table>\n",
       "</div>"
      ],
      "text/plain": [
       "            message_id                date  \\\n",
       "0  1181425472770494464 2019-10-08 04:25:57   \n",
       "1  1187179824189788160 2019-10-24 01:31:41   \n",
       "2  1161754851510030342 2019-08-14 21:41:55   \n",
       "\n",
       "                                                         text  source  \\\n",
       "0  @WinTheDay848 😍                                             ios      \n",
       "1  Also pastors                                                ios      \n",
       "2  we are in and the tickets are REAL https://t.co/xkWBsk9jzE  iphone   \n",
       "\n",
       "    longitude  latittude  \n",
       "0 -122.496610  45.424744  \n",
       "1 -87.603350   41.803772  \n",
       "2 -96.712301   40.817276  "
      ]
     },
     "execution_count": 17,
     "metadata": {},
     "output_type": "execute_result"
    }
   ],
   "source": [
    "data_plus = data_plus[['message_id', 'date', 'text', 'source','longitude',\n",
    "       'latittude']]\n",
    "\n",
    "data_plus.head(3)"
   ]
  },
  {
   "cell_type": "code",
   "execution_count": 18,
   "id": "01c9b5e2",
   "metadata": {},
   "outputs": [],
   "source": [
    "data_plus.to_csv('data2/data2_complete.csv')"
   ]
  },
  {
   "cell_type": "markdown",
   "id": "c3e31d28",
   "metadata": {},
   "source": [
    "# Join datasets"
   ]
  },
  {
   "cell_type": "markdown",
   "id": "2459add4",
   "metadata": {},
   "source": [
    "Joining the datasets extracted from multiple sources"
   ]
  },
  {
   "cell_type": "code",
   "execution_count": null,
   "id": "64737e4d",
   "metadata": {},
   "outputs": [],
   "source": [
    "df = pd.read_csv('data//main3.csv')\n",
    "df1 = pd.read_csv('data//fours.csv')\n",
    "df2 = pd.read_csv('data//fswarm.csv')\n",
    "df3 = pd.read_csv('data//insta.csv')\n",
    "df4 = pd.read_csv('data//hootsuite.csv')\n",
    "df5 = pd.read_csv('data//untapped.csv')"
   ]
  },
  {
   "cell_type": "code",
   "execution_count": null,
   "id": "efbed326",
   "metadata": {},
   "outputs": [],
   "source": [
    "print(df.shape, df1.shape, df2.shape, df3.shape, df4.shape, df5.shape)"
   ]
  },
  {
   "cell_type": "code",
   "execution_count": null,
   "id": "edd6f99c",
   "metadata": {},
   "outputs": [],
   "source": [
    "frames = [df, df1, df2, df3, df4, df5]"
   ]
  },
  {
   "cell_type": "code",
   "execution_count": null,
   "id": "2886e3aa",
   "metadata": {},
   "outputs": [],
   "source": [
    "df_final = pd.concat(frames)\n",
    "df_final[['text']]"
   ]
  },
  {
   "cell_type": "code",
   "execution_count": null,
   "id": "15ae8eb1",
   "metadata": {},
   "outputs": [],
   "source": [
    "df_final.columns"
   ]
  },
  {
   "cell_type": "code",
   "execution_count": null,
   "id": "daac866d",
   "metadata": {},
   "outputs": [],
   "source": [
    "df_final =df_final.drop(columns = ['message_id', 'date', 'source', 'geom', 'user_id',\n",
    "       'user_name'])"
   ]
  },
  {
   "cell_type": "code",
   "execution_count": null,
   "id": "6fa133df",
   "metadata": {},
   "outputs": [],
   "source": [
    "df_final.columns"
   ]
  },
  {
   "cell_type": "code",
   "execution_count": null,
   "id": "2c0f2c86",
   "metadata": {},
   "outputs": [],
   "source": [
    "df_final.to_csv('data//data.csv')"
   ]
  },
  {
   "cell_type": "code",
   "execution_count": null,
   "id": "bd3c745b",
   "metadata": {},
   "outputs": [],
   "source": []
  },
  {
   "cell_type": "markdown",
   "id": "5843cda6",
   "metadata": {},
   "source": [
    "# Join location datasets"
   ]
  },
  {
   "cell_type": "code",
   "execution_count": 2,
   "id": "19b39785",
   "metadata": {},
   "outputs": [
    {
     "name": "stdout",
     "output_type": "stream",
     "text": [
      "(67804, 12) (4996, 13) (3649, 13) (3000, 12)\n"
     ]
    }
   ],
   "source": [
    "df = pd.read_csv('data//data_english_locations.csv')\n",
    "df2 = pd.read_csv('data//data_non_english_locations1.csv')\n",
    "df3 = pd.read_csv('data//data_non_english_locations2.csv')\n",
    "df4 = pd.read_csv('data//data_non_english_locations3.csv')\n",
    "print (df.shape, df2.shape, df3.shape, df4.shape)"
   ]
  },
  {
   "cell_type": "code",
   "execution_count": 3,
   "id": "782cddf6",
   "metadata": {},
   "outputs": [
    {
     "data": {
      "text/plain": [
       "Index(['Unnamed: 0', 'id', 'date', 'text', 'source', 'longitude', 'latittude',\n",
       "       'lang', 'GPE', 'FAC', 'LOC', 'ORG'],\n",
       "      dtype='object')"
      ]
     },
     "execution_count": 3,
     "metadata": {},
     "output_type": "execute_result"
    }
   ],
   "source": [
    "df.columns"
   ]
  },
  {
   "cell_type": "code",
   "execution_count": 4,
   "id": "41bba5b0",
   "metadata": {},
   "outputs": [
    {
     "data": {
      "text/html": [
       "<div>\n",
       "<style scoped>\n",
       "    .dataframe tbody tr th:only-of-type {\n",
       "        vertical-align: middle;\n",
       "    }\n",
       "\n",
       "    .dataframe tbody tr th {\n",
       "        vertical-align: top;\n",
       "    }\n",
       "\n",
       "    .dataframe thead th {\n",
       "        text-align: right;\n",
       "    }\n",
       "</style>\n",
       "<table border=\"1\" class=\"dataframe\">\n",
       "  <thead>\n",
       "    <tr style=\"text-align: right;\">\n",
       "      <th></th>\n",
       "      <th>Unnamed: 0</th>\n",
       "      <th>id</th>\n",
       "      <th>date</th>\n",
       "      <th>en_text</th>\n",
       "      <th>source</th>\n",
       "      <th>longitude</th>\n",
       "      <th>latittude</th>\n",
       "      <th>lang</th>\n",
       "      <th>GPE</th>\n",
       "      <th>FAC</th>\n",
       "      <th>LOC</th>\n",
       "      <th>ORG</th>\n",
       "    </tr>\n",
       "  </thead>\n",
       "  <tbody>\n",
       "    <tr>\n",
       "      <th>67799</th>\n",
       "      <td>67799</td>\n",
       "      <td>6590098</td>\n",
       "      <td>2020-02-17 19:01:22</td>\n",
       "      <td>Only the third batch ever - Drinking a Propiti...</td>\n",
       "      <td>&lt;a href=\"https://untappd.com\" rel=\"nofollow\"&gt;U...</td>\n",
       "      <td>-122.8000</td>\n",
       "      <td>38.5319</td>\n",
       "      <td>en</td>\n",
       "      <td>[]</td>\n",
       "      <td>[]</td>\n",
       "      <td>[Russian River Brewing Company, Russian River ...</td>\n",
       "      <td>[]</td>\n",
       "    </tr>\n",
       "    <tr>\n",
       "      <th>67800</th>\n",
       "      <td>67800</td>\n",
       "      <td>1492661</td>\n",
       "      <td>2020-03-10 23:37:46</td>\n",
       "      <td>@loonballoonfun! - Drinking a Tropical IPA by ...</td>\n",
       "      <td>&lt;a href=\"https://untappd.com\" rel=\"nofollow\"&gt;U...</td>\n",
       "      <td>-81.2308</td>\n",
       "      <td>33.9952</td>\n",
       "      <td>en</td>\n",
       "      <td>[]</td>\n",
       "      <td>[]</td>\n",
       "      <td>[Steel Hands Brewing, Carolina Wings &amp; Rib House]</td>\n",
       "      <td>[]</td>\n",
       "    </tr>\n",
       "    <tr>\n",
       "      <th>67801</th>\n",
       "      <td>67801</td>\n",
       "      <td>6363492</td>\n",
       "      <td>2020-02-15 19:24:04</td>\n",
       "      <td>Dave &amp; Busters serving the coldest, freshest M...</td>\n",
       "      <td>&lt;a href=\"https://untappd.com\" rel=\"nofollow\"&gt;U...</td>\n",
       "      <td>-88.0484</td>\n",
       "      <td>43.0581</td>\n",
       "      <td>en</td>\n",
       "      <td>[]</td>\n",
       "      <td>[]</td>\n",
       "      <td>[Dave &amp; Busters]</td>\n",
       "      <td>[]</td>\n",
       "    </tr>\n",
       "    <tr>\n",
       "      <th>67802</th>\n",
       "      <td>67802</td>\n",
       "      <td>954252</td>\n",
       "      <td>2020-02-23 20:10:48</td>\n",
       "      <td>Drinking a Devil Dancer (2019) by @foundersbre...</td>\n",
       "      <td>&lt;a href=\"https://untappd.com\" rel=\"nofollow\"&gt;U...</td>\n",
       "      <td>-84.6607</td>\n",
       "      <td>42.7413</td>\n",
       "      <td>en</td>\n",
       "      <td>[]</td>\n",
       "      <td>[Horrocks Tavern]</td>\n",
       "      <td>[]</td>\n",
       "      <td>[]</td>\n",
       "    </tr>\n",
       "    <tr>\n",
       "      <th>67803</th>\n",
       "      <td>67803</td>\n",
       "      <td>3089718</td>\n",
       "      <td>2020-01-20 04:40:55</td>\n",
       "      <td>Drinking a Straight C+s IPA by @SpiderBiteBeer...</td>\n",
       "      <td>&lt;a href=\"https://untappd.com\" rel=\"nofollow\"&gt;U...</td>\n",
       "      <td>-75.4587</td>\n",
       "      <td>41.1107</td>\n",
       "      <td>en</td>\n",
       "      <td>[]</td>\n",
       "      <td>[]</td>\n",
       "      <td>[]</td>\n",
       "      <td>[]</td>\n",
       "    </tr>\n",
       "  </tbody>\n",
       "</table>\n",
       "</div>"
      ],
      "text/plain": [
       "       Unnamed: 0       id                 date  \\\n",
       "67799       67799  6590098  2020-02-17 19:01:22   \n",
       "67800       67800  1492661  2020-03-10 23:37:46   \n",
       "67801       67801  6363492  2020-02-15 19:24:04   \n",
       "67802       67802   954252  2020-02-23 20:10:48   \n",
       "67803       67803  3089718  2020-01-20 04:40:55   \n",
       "\n",
       "                                                 en_text  \\\n",
       "67799  Only the third batch ever - Drinking a Propiti...   \n",
       "67800  @loonballoonfun! - Drinking a Tropical IPA by ...   \n",
       "67801  Dave & Busters serving the coldest, freshest M...   \n",
       "67802  Drinking a Devil Dancer (2019) by @foundersbre...   \n",
       "67803  Drinking a Straight C+s IPA by @SpiderBiteBeer...   \n",
       "\n",
       "                                                  source  longitude  \\\n",
       "67799  <a href=\"https://untappd.com\" rel=\"nofollow\">U...  -122.8000   \n",
       "67800  <a href=\"https://untappd.com\" rel=\"nofollow\">U...   -81.2308   \n",
       "67801  <a href=\"https://untappd.com\" rel=\"nofollow\">U...   -88.0484   \n",
       "67802  <a href=\"https://untappd.com\" rel=\"nofollow\">U...   -84.6607   \n",
       "67803  <a href=\"https://untappd.com\" rel=\"nofollow\">U...   -75.4587   \n",
       "\n",
       "       latittude lang GPE                FAC  \\\n",
       "67799    38.5319   en  []                 []   \n",
       "67800    33.9952   en  []                 []   \n",
       "67801    43.0581   en  []                 []   \n",
       "67802    42.7413   en  []  [Horrocks Tavern]   \n",
       "67803    41.1107   en  []                 []   \n",
       "\n",
       "                                                     LOC ORG  \n",
       "67799  [Russian River Brewing Company, Russian River ...  []  \n",
       "67800  [Steel Hands Brewing, Carolina Wings & Rib House]  []  \n",
       "67801                                   [Dave & Busters]  []  \n",
       "67802                                                 []  []  \n",
       "67803                                                 []  []  "
      ]
     },
     "execution_count": 4,
     "metadata": {},
     "output_type": "execute_result"
    }
   ],
   "source": [
    "df = df.rename(columns ={'text':'en_text'})\n",
    "df2 = df2.rename(columns ={'de_text':'en_text'})\n",
    "df3 =df3.rename(columns ={'de_text':'en_text'})\n",
    "df4 =df4.rename(columns ={'de_text':'en_text'})\n",
    "df.tail()"
   ]
  },
  {
   "cell_type": "code",
   "execution_count": 5,
   "id": "aec75504",
   "metadata": {},
   "outputs": [
    {
     "data": {
      "text/plain": [
       "Index(['Unnamed: 0', 'id', 'date', 'source', 'longitude', 'latittude', 'lang',\n",
       "       'en_text', 'GPE', 'FAC', 'LOC', 'ORG'],\n",
       "      dtype='object')"
      ]
     },
     "execution_count": 5,
     "metadata": {},
     "output_type": "execute_result"
    }
   ],
   "source": [
    "df4.columns"
   ]
  },
  {
   "cell_type": "code",
   "execution_count": 6,
   "id": "15eada89",
   "metadata": {},
   "outputs": [
    {
     "data": {
      "text/html": [
       "<div>\n",
       "<style scoped>\n",
       "    .dataframe tbody tr th:only-of-type {\n",
       "        vertical-align: middle;\n",
       "    }\n",
       "\n",
       "    .dataframe tbody tr th {\n",
       "        vertical-align: top;\n",
       "    }\n",
       "\n",
       "    .dataframe thead th {\n",
       "        text-align: right;\n",
       "    }\n",
       "</style>\n",
       "<table border=\"1\" class=\"dataframe\">\n",
       "  <thead>\n",
       "    <tr style=\"text-align: right;\">\n",
       "      <th></th>\n",
       "      <th>id</th>\n",
       "      <th>date</th>\n",
       "      <th>source</th>\n",
       "      <th>longitude</th>\n",
       "      <th>latittude</th>\n",
       "      <th>lang</th>\n",
       "      <th>en_text</th>\n",
       "      <th>GPE</th>\n",
       "      <th>FAC</th>\n",
       "      <th>LOC</th>\n",
       "      <th>ORG</th>\n",
       "    </tr>\n",
       "  </thead>\n",
       "  <tbody>\n",
       "    <tr>\n",
       "      <th>0</th>\n",
       "      <td>6731721</td>\n",
       "      <td>2020-02-19 01:40:39</td>\n",
       "      <td>&lt;a href=\"http://twitter.com/download/android\" ...</td>\n",
       "      <td>-100.199042</td>\n",
       "      <td>25.641778</td>\n",
       "      <td>es</td>\n",
       "      <td>@CicGPE @Telmex @Telmexsolizes Alert very low ...</td>\n",
       "      <td>[Rincon de la Sierra, Guadeloupe]</td>\n",
       "      <td>[]</td>\n",
       "      <td>[]</td>\n",
       "      <td>[]</td>\n",
       "    </tr>\n",
       "    <tr>\n",
       "      <th>1</th>\n",
       "      <td>6732978</td>\n",
       "      <td>2020-02-19 01:56:57</td>\n",
       "      <td>&lt;a href=\"http://twitter.com/download/iphone\" r...</td>\n",
       "      <td>-76.914535</td>\n",
       "      <td>38.964903</td>\n",
       "      <td>pt</td>\n",
       "      <td>Responding firm research and happy with the re...</td>\n",
       "      <td>[]</td>\n",
       "      <td>[]</td>\n",
       "      <td>[Geneo de Todexs]</td>\n",
       "      <td>[]</td>\n",
       "    </tr>\n",
       "    <tr>\n",
       "      <th>2</th>\n",
       "      <td>6733425</td>\n",
       "      <td>2020-02-19 02:05:01</td>\n",
       "      <td>&lt;a href=\"http://tapbots.com/tweetbot\" rel=\"nof...</td>\n",
       "      <td>-88.049426</td>\n",
       "      <td>43.022125</td>\n",
       "      <td>nl</td>\n",
       "      <td>@BadgerMBB @aleemty2 Nice</td>\n",
       "      <td>[]</td>\n",
       "      <td>[]</td>\n",
       "      <td>[]</td>\n",
       "      <td>[]</td>\n",
       "    </tr>\n",
       "    <tr>\n",
       "      <th>3</th>\n",
       "      <td>6733689</td>\n",
       "      <td>2020-02-19 02:10:12</td>\n",
       "      <td>&lt;a href=\"http://tapbots.com/tweetbot\" rel=\"nof...</td>\n",
       "      <td>-74.067041</td>\n",
       "      <td>40.724030</td>\n",
       "      <td>af</td>\n",
       "      <td>Took me OUT</td>\n",
       "      <td>[]</td>\n",
       "      <td>[]</td>\n",
       "      <td>[]</td>\n",
       "      <td>[]</td>\n",
       "    </tr>\n",
       "    <tr>\n",
       "      <th>4</th>\n",
       "      <td>6734107</td>\n",
       "      <td>2020-01-08 07:11:06</td>\n",
       "      <td>&lt;a href=\"http://tapbots.com/tweetbot\" rel=\"nof...</td>\n",
       "      <td>-122.038311</td>\n",
       "      <td>47.531555</td>\n",
       "      <td>af</td>\n",
       "      <td>@cjbrinton Sleep boo boo, sleep</td>\n",
       "      <td>[]</td>\n",
       "      <td>[]</td>\n",
       "      <td>[]</td>\n",
       "      <td>[]</td>\n",
       "    </tr>\n",
       "  </tbody>\n",
       "</table>\n",
       "</div>"
      ],
      "text/plain": [
       "        id                 date  \\\n",
       "0  6731721  2020-02-19 01:40:39   \n",
       "1  6732978  2020-02-19 01:56:57   \n",
       "2  6733425  2020-02-19 02:05:01   \n",
       "3  6733689  2020-02-19 02:10:12   \n",
       "4  6734107  2020-01-08 07:11:06   \n",
       "\n",
       "                                              source   longitude  latittude  \\\n",
       "0  <a href=\"http://twitter.com/download/android\" ... -100.199042  25.641778   \n",
       "1  <a href=\"http://twitter.com/download/iphone\" r...  -76.914535  38.964903   \n",
       "2  <a href=\"http://tapbots.com/tweetbot\" rel=\"nof...  -88.049426  43.022125   \n",
       "3  <a href=\"http://tapbots.com/tweetbot\" rel=\"nof...  -74.067041  40.724030   \n",
       "4  <a href=\"http://tapbots.com/tweetbot\" rel=\"nof... -122.038311  47.531555   \n",
       "\n",
       "  lang                                            en_text  \\\n",
       "0   es  @CicGPE @Telmex @Telmexsolizes Alert very low ...   \n",
       "1   pt  Responding firm research and happy with the re...   \n",
       "2   nl                         @BadgerMBB @aleemty2 Nice    \n",
       "3   af                                       Took me OUT    \n",
       "4   af                   @cjbrinton Sleep boo boo, sleep    \n",
       "\n",
       "                                 GPE FAC                LOC ORG  \n",
       "0  [Rincon de la Sierra, Guadeloupe]  []                 []  []  \n",
       "1                                 []  []  [Geneo de Todexs]  []  \n",
       "2                                 []  []                 []  []  \n",
       "3                                 []  []                 []  []  \n",
       "4                                 []  []                 []  []  "
      ]
     },
     "execution_count": 6,
     "metadata": {},
     "output_type": "execute_result"
    }
   ],
   "source": [
    "df = df.drop(columns =['Unnamed: 0'])\n",
    "df2 = df2.drop(columns =['Unnamed: 0','text'])\n",
    "df3 = df3.drop(columns =['Unnamed: 0','text'])\n",
    "df4 = df4.drop(columns =['Unnamed: 0'])\n",
    "df3.head()"
   ]
  },
  {
   "cell_type": "code",
   "execution_count": 13,
   "id": "2c5f30a7",
   "metadata": {},
   "outputs": [],
   "source": [
    "frames = [df2,df3,df4]"
   ]
  },
  {
   "cell_type": "code",
   "execution_count": 14,
   "id": "04963b9a",
   "metadata": {},
   "outputs": [
    {
     "data": {
      "text/plain": [
       "(11645, 11)"
      ]
     },
     "execution_count": 14,
     "metadata": {},
     "output_type": "execute_result"
    }
   ],
   "source": [
    "df_final = pd.concat(frames)\n",
    "df_final.shape"
   ]
  },
  {
   "cell_type": "code",
   "execution_count": 15,
   "id": "affc948d",
   "metadata": {},
   "outputs": [
    {
     "data": {
      "text/plain": [
       "(10189, 11)"
      ]
     },
     "execution_count": 15,
     "metadata": {},
     "output_type": "execute_result"
    }
   ],
   "source": [
    "df_final = df_final.drop_duplicates(subset =['en_text','id','latittude'], keep = 'last')\n",
    "df_final.shape"
   ]
  },
  {
   "cell_type": "code",
   "execution_count": null,
   "id": "af1d3a1d",
   "metadata": {},
   "outputs": [],
   "source": []
  },
  {
   "cell_type": "code",
   "execution_count": 17,
   "id": "634be9ac",
   "metadata": {},
   "outputs": [],
   "source": [
    "df_final.to_csv('data//complete_4_locations_transla.csv')"
   ]
  },
  {
   "cell_type": "code",
   "execution_count": 12,
   "id": "8abbf247",
   "metadata": {},
   "outputs": [
    {
     "data": {
      "text/html": [
       "<div>\n",
       "<style scoped>\n",
       "    .dataframe tbody tr th:only-of-type {\n",
       "        vertical-align: middle;\n",
       "    }\n",
       "\n",
       "    .dataframe tbody tr th {\n",
       "        vertical-align: top;\n",
       "    }\n",
       "\n",
       "    .dataframe thead th {\n",
       "        text-align: right;\n",
       "    }\n",
       "</style>\n",
       "<table border=\"1\" class=\"dataframe\">\n",
       "  <thead>\n",
       "    <tr style=\"text-align: right;\">\n",
       "      <th></th>\n",
       "      <th>id</th>\n",
       "      <th>date</th>\n",
       "      <th>en_text</th>\n",
       "      <th>source</th>\n",
       "      <th>longitude</th>\n",
       "      <th>latittude</th>\n",
       "      <th>lang</th>\n",
       "      <th>GPE</th>\n",
       "      <th>FAC</th>\n",
       "      <th>LOC</th>\n",
       "      <th>ORG</th>\n",
       "    </tr>\n",
       "  </thead>\n",
       "  <tbody>\n",
       "    <tr>\n",
       "      <th>0</th>\n",
       "      <td>3242090</td>\n",
       "      <td>2020-02-04 08:52:49</td>\n",
       "      <td>@amandarykoff Why am I not surprised</td>\n",
       "      <td>&lt;a href=\"http://tapbots.com/tweetbot\" rel=\"nof...</td>\n",
       "      <td>-122.282159</td>\n",
       "      <td>37.839600</td>\n",
       "      <td>en</td>\n",
       "      <td>[]</td>\n",
       "      <td>[]</td>\n",
       "      <td>[]</td>\n",
       "      <td>[]</td>\n",
       "    </tr>\n",
       "    <tr>\n",
       "      <th>1</th>\n",
       "      <td>3242118</td>\n",
       "      <td>2020-02-04 08:53:34</td>\n",
       "      <td>Whoever wins Iowa isnt even going to get a goo...</td>\n",
       "      <td>&lt;a href=\"http://tapbots.com/tweetbot\" rel=\"nof...</td>\n",
       "      <td>-122.281984</td>\n",
       "      <td>37.839508</td>\n",
       "      <td>en</td>\n",
       "      <td>[Iowa, Iowa]</td>\n",
       "      <td>[]</td>\n",
       "      <td>[]</td>\n",
       "      <td>[]</td>\n",
       "    </tr>\n",
       "    <tr>\n",
       "      <th>2</th>\n",
       "      <td>3242119</td>\n",
       "      <td>2020-02-04 08:53:42</td>\n",
       "      <td>Im going to bed. Whats the point of staying awake</td>\n",
       "      <td>&lt;a href=\"http://tapbots.com/tweetbot\" rel=\"nof...</td>\n",
       "      <td>-122.281984</td>\n",
       "      <td>37.839508</td>\n",
       "      <td>en</td>\n",
       "      <td>[]</td>\n",
       "      <td>[]</td>\n",
       "      <td>[]</td>\n",
       "      <td>[]</td>\n",
       "    </tr>\n",
       "    <tr>\n",
       "      <th>3</th>\n",
       "      <td>3242369</td>\n",
       "      <td>2020-04-17 08:52:16</td>\n",
       "      <td>@JimOBrienWX good good morning my brother I'm ...</td>\n",
       "      <td>&lt;a href=\"http://twitter.com/download/android\" ...</td>\n",
       "      <td>-85.684524</td>\n",
       "      <td>40.106547</td>\n",
       "      <td>en</td>\n",
       "      <td>[]</td>\n",
       "      <td>[]</td>\n",
       "      <td>[]</td>\n",
       "      <td>[]</td>\n",
       "    </tr>\n",
       "    <tr>\n",
       "      <th>4</th>\n",
       "      <td>3242397</td>\n",
       "      <td>2020-03-26 02:03:58</td>\n",
       "      <td>Seeing lots of people walking running around t...</td>\n",
       "      <td>&lt;a href=\"http://tapbots.com/tweetbot\" rel=\"nof...</td>\n",
       "      <td>-121.963962</td>\n",
       "      <td>37.951202</td>\n",
       "      <td>en</td>\n",
       "      <td>[]</td>\n",
       "      <td>[]</td>\n",
       "      <td>[]</td>\n",
       "      <td>[]</td>\n",
       "    </tr>\n",
       "  </tbody>\n",
       "</table>\n",
       "</div>"
      ],
      "text/plain": [
       "        id                 date  \\\n",
       "0  3242090  2020-02-04 08:52:49   \n",
       "1  3242118  2020-02-04 08:53:34   \n",
       "2  3242119  2020-02-04 08:53:42   \n",
       "3  3242369  2020-04-17 08:52:16   \n",
       "4  3242397  2020-03-26 02:03:58   \n",
       "\n",
       "                                             en_text  \\\n",
       "0               @amandarykoff Why am I not surprised   \n",
       "1  Whoever wins Iowa isnt even going to get a goo...   \n",
       "2  Im going to bed. Whats the point of staying awake   \n",
       "3  @JimOBrienWX good good morning my brother I'm ...   \n",
       "4  Seeing lots of people walking running around t...   \n",
       "\n",
       "                                              source   longitude  latittude  \\\n",
       "0  <a href=\"http://tapbots.com/tweetbot\" rel=\"nof... -122.282159  37.839600   \n",
       "1  <a href=\"http://tapbots.com/tweetbot\" rel=\"nof... -122.281984  37.839508   \n",
       "2  <a href=\"http://tapbots.com/tweetbot\" rel=\"nof... -122.281984  37.839508   \n",
       "3  <a href=\"http://twitter.com/download/android\" ...  -85.684524  40.106547   \n",
       "4  <a href=\"http://tapbots.com/tweetbot\" rel=\"nof... -121.963962  37.951202   \n",
       "\n",
       "  lang           GPE FAC LOC ORG  \n",
       "0   en            []  []  []  []  \n",
       "1   en  [Iowa, Iowa]  []  []  []  \n",
       "2   en            []  []  []  []  \n",
       "3   en            []  []  []  []  \n",
       "4   en            []  []  []  []  "
      ]
     },
     "execution_count": 12,
     "metadata": {},
     "output_type": "execute_result"
    }
   ],
   "source": [
    "df.head()"
   ]
  },
  {
   "cell_type": "code",
   "execution_count": null,
   "id": "af88b426",
   "metadata": {},
   "outputs": [],
   "source": []
  },
  {
   "cell_type": "code",
   "execution_count": 19,
   "id": "c4ec72a6",
   "metadata": {},
   "outputs": [],
   "source": [
    "df_temp1 = pd.read_csv('data//locations_temp_information_full.csv')\n",
    "df_temp = pd.read_csv('data//locations_temp_information_full_trans.csv')\n"
   ]
  },
  {
   "cell_type": "code",
   "execution_count": 20,
   "id": "f59e61f5",
   "metadata": {},
   "outputs": [
    {
     "data": {
      "text/plain": [
       "Index(['Unnamed: 0', 'Unnamed: 0.1', 'id', 'date', 'en_text', 'source',\n",
       "       'longitude', 'latittude', 'lang', 'GPE', 'FAC', 'LOC', 'ORG', 'TE'],\n",
       "      dtype='object')"
      ]
     },
     "execution_count": 20,
     "metadata": {},
     "output_type": "execute_result"
    }
   ],
   "source": [
    "df_temp1.columns"
   ]
  },
  {
   "cell_type": "code",
   "execution_count": 21,
   "id": "4ea834fd",
   "metadata": {},
   "outputs": [
    {
     "data": {
      "text/plain": [
       "Index(['Unnamed: 0', 'Unnamed: 0.1', 'id', 'date', 'source', 'longitude',\n",
       "       'latittude', 'lang', 'en_text', 'GPE', 'FAC', 'LOC', 'ORG', 'TE'],\n",
       "      dtype='object')"
      ]
     },
     "execution_count": 21,
     "metadata": {},
     "output_type": "execute_result"
    }
   ],
   "source": [
    "df_temp.columns"
   ]
  },
  {
   "cell_type": "code",
   "execution_count": 22,
   "id": "7ca29a80",
   "metadata": {},
   "outputs": [
    {
     "data": {
      "text/plain": [
       "(67804, 14)"
      ]
     },
     "execution_count": 22,
     "metadata": {},
     "output_type": "execute_result"
    }
   ],
   "source": [
    "df_temp1.shape"
   ]
  },
  {
   "cell_type": "code",
   "execution_count": 23,
   "id": "6cbcd560",
   "metadata": {},
   "outputs": [
    {
     "data": {
      "text/plain": [
       "(10189, 14)"
      ]
     },
     "execution_count": 23,
     "metadata": {},
     "output_type": "execute_result"
    }
   ],
   "source": [
    "df_temp.shape"
   ]
  },
  {
   "cell_type": "code",
   "execution_count": 24,
   "id": "e8fc48c6",
   "metadata": {},
   "outputs": [],
   "source": [
    "frame = [df_temp1, df_temp]"
   ]
  },
  {
   "cell_type": "code",
   "execution_count": 25,
   "id": "dca18dd2",
   "metadata": {},
   "outputs": [],
   "source": [
    "temp = pd.concat(frame)"
   ]
  },
  {
   "cell_type": "code",
   "execution_count": 26,
   "id": "da2d6450",
   "metadata": {},
   "outputs": [
    {
     "data": {
      "text/plain": [
       "(77993, 14)"
      ]
     },
     "execution_count": 26,
     "metadata": {},
     "output_type": "execute_result"
    }
   ],
   "source": [
    "temp.shape"
   ]
  },
  {
   "cell_type": "code",
   "execution_count": 27,
   "id": "e827a972",
   "metadata": {},
   "outputs": [],
   "source": [
    "temp.to_csv('data//analysis_data//full_entity_extraction.csv')"
   ]
  },
  {
   "cell_type": "code",
   "execution_count": null,
   "id": "3c3caea1",
   "metadata": {},
   "outputs": [],
   "source": []
  }
 ],
 "metadata": {
  "kernelspec": {
   "display_name": "Python 3",
   "language": "python",
   "name": "python3"
  },
  "language_info": {
   "codemirror_mode": {
    "name": "ipython",
    "version": 3
   },
   "file_extension": ".py",
   "mimetype": "text/x-python",
   "name": "python",
   "nbconvert_exporter": "python",
   "pygments_lexer": "ipython3",
   "version": "3.8.8"
  }
 },
 "nbformat": 4,
 "nbformat_minor": 5
}
